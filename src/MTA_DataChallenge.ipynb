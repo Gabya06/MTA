{
 "cells": [
  {
   "cell_type": "markdown",
   "metadata": {},
   "source": [
    "## MTA Data Challenge\n",
    "\n",
    "\n",
    "In this project I used the MTA turstile dataset from http://web.mta.info/developers/turnstile.html. There were two different data formats used, one for data before 10/8/2014 and one for after. In my analysis, I named the dataset containing the old format old_data and the new format new_data. I created a function to iteratively read the online data and add it to a text file. At the end of the data scrapping phase there are two text files that were created, one for each type of format. \n",
    "\n",
    "After reading the data, I cleaned up the format of the old data to match the new one. Since there is a lot of data, processing this took quite some time. In hindsight, I should have created a sqlite database and manipulated the data there, and done some of analysis there. After some time, I realized that there was a bit too much data to try and combine both the new and old datasets into one pandas dataframe. Since I had already done most of the work in pandas at that point, I focused most of my analysis on the new data to reduce the volume."
   ]
  },
  {
   "cell_type": "code",
   "execution_count": 1,
   "metadata": {
    "collapsed": true
   },
   "outputs": [],
   "source": [
    "import sys\n",
    "import io\n",
    "import os\n",
    "import pandas as pd\n",
    "import numpy as np\n",
    "import datetime\n",
    "import requests\n",
    "import matplotlib.pyplot as plt\n",
    "%matplotlib inline\n",
    "import seaborn as sns\n",
    "sns.set_style('whitegrid')\n",
    "\n",
    "from sklearn.utils import shuffle\n",
    "from sklearn.cross_validation import train_test_split\n",
    "from sklearn.linear_model import LinearRegression \n",
    "from sklearn.preprocessing import LabelEncoder, scale\n",
    "\n",
    "project_dir = '/Users/Gabi/dev/viacom/src/'\n",
    "data_dir= '/Users/Gabi/dev/viacom/data/'\n"
   ]
  },
  {
   "cell_type": "code",
   "execution_count": 2,
   "metadata": {
    "collapsed": true
   },
   "outputs": [],
   "source": [
    "remote_mapping = pd.read_csv(data_dir + 'Remote-Booth-Station_2.csv', encoding='utf-8')\n",
    "\n",
    "# dictionary for remote lookup\n",
    "d = {\n",
    "    'Station' :remote_mapping.groupby('Remote')['Station'].apply(lambda x: x.tolist().pop() if len(x)==1 else x.tolist()),\n",
    "    'LineName' :remote_mapping.groupby('Remote')['LineName'].apply(lambda x: x.tolist().pop() if len(x)==1 else x.tolist())\n",
    "}\n",
    "\n",
    "# headers - these are different before 10/18/2014 and after\n",
    "headers_old = ['ControlArea', 'UNIT', 'SCP', 'DATE1', 'TIME1', 'DESC1', 'ENTRIES1', 'EXITS1', 'DATE2', 'TIME2', 'DESC2',\n",
    "          'ENTRIES2', 'EXITS2', 'DATE3', 'TIME3', 'DESC3', 'ENTRIES3', 'EXITS3', 'DATE4', 'TIME4', 'DESC4', 'ENTRIES4',\n",
    "          'EXITS4', 'DATE5', 'TIME5', 'DESC5', 'ENTRIES5', 'EXITS5', 'DATE6', 'TIME6', 'DESC6', 'ENTRIES6', 'EXITS6',\n",
    "          'DATE7', 'TIME7', 'DESC7', 'ENTRIES7', 'EXITS7', 'DATE8', 'TIME8', 'DESC8', 'ENTRIES8', 'EXITS8']\n",
    "headers_new = ['ControlArea','UNIT','SCP','STATION','LINENAME','DIVISION','DATE','TIME','DESC','ENTRIES','EXITS']\n"
   ]
  },
  {
   "cell_type": "code",
   "execution_count": 3,
   "metadata": {
    "collapsed": true
   },
   "outputs": [],
   "source": [
    "def combine_urls(date_range,out_file,mta_data_type):\n",
    "    '''\n",
    "    Function to write all text from urls into file\n",
    "    :param date_range: pd.date_range object \n",
    "    :param out_file: path + name of file to write to\n",
    "    :param mta_data_type: 'new' or 'old' to distinguish data \n",
    "                        before 10/18/2014 which was formatted differently\n",
    "    :return: .txt file\n",
    "    '''\n",
    "    base_url = 'http://web.mta.info/developers/data/nyct/turnstile/'\n",
    "    error_list = []\n",
    "    for i in date_range:\n",
    "        s = datetime.datetime.strftime(i, '%y%m%d')\n",
    "        url = base_url + 'turnstile_' + s + '.txt'\n",
    "        r = requests.get(url=url)\n",
    "        if r.status_code==404:\n",
    "            pass\n",
    "        else:\n",
    "            content = r.content.decode('utf-8')\n",
    "            # new formatted data has header that needs to be removed\n",
    "            if mta_data_type =='new':\n",
    "                content_header = content.strip().split('\\n')[0]\n",
    "                content = content.strip(content_header)\n",
    "                \n",
    "            try:\n",
    "                with open(out_file, 'a') as outfile:\n",
    "                    outfile.write(content)\n",
    "                    #print \"wrote \", url, \" content to file\"\n",
    "            except Exception as e:\n",
    "                print \"error\" ,e\n",
    "                error_list.append(i)\n",
    "    return outfile"
   ]
  },
  {
   "cell_type": "code",
   "execution_count": 116,
   "metadata": {
    "collapsed": false
   },
   "outputs": [],
   "source": [
    "def clean_old_data(old_df, mapping_dict, headers_new):\n",
    "    '''\n",
    "    Function to reformat data before 10/18/2014 to match newest format\n",
    "    \n",
    "    :param old_df: DataFrame object with old data\n",
    "    :param mapping_dict: dictionary to look up station info\n",
    "    :param headers_new: headers to match new format\n",
    "     returns: Formatted old data\n",
    "    \n",
    "    '''\n",
    "    # fill null values in numeric columns (entries & exists)\n",
    "    entries = old_df.columns[old_df.columns.str.contains('ENTRIES')]\n",
    "    old_df[entries] = old_df[entries].fillna(0.0)\n",
    "    exits = old_df.columns[old_df.columns.str.contains('EXITS')]\n",
    "    old_df[exits] = old_df[exits].fillna(0.0)\n",
    "\n",
    "    # create column of total entries and exists\n",
    "    old_df['ENTRIES'] = old_df[entries].sum(axis=1)\n",
    "    old_df['EXITS'] = old_df[exits].sum(axis=1)\n",
    "    old_df = old_df.drop(entries + exits, axis=1)\n",
    "\n",
    "    # combine DESC\n",
    "    desc = old_df.columns[old_df.columns.str.contains('DESC')]\n",
    "    temp = pd.melt(frame=old_df, value_name='DESC', value_vars= desc.values.tolist())\n",
    "    old_df['DESC'] = temp['DESC']\n",
    "    old_df = old_df.drop(desc, axis = 1)\n",
    "\n",
    "    # combine DATE\n",
    "    dates = old_df.columns[old_df.columns.str.contains('DATE')]\n",
    "    temp = pd.melt(frame=old_df,value_name='DATE', value_vars=dates.values.tolist())\n",
    "    old_df['DATE'] = temp['DATE']\n",
    "    old_df = old_df.drop(dates, axis = 1)\n",
    "\n",
    "    # combine TIME\n",
    "    times = old_df.columns[old_df.columns.str.contains('TIME')]\n",
    "    temp = pd.melt(frame=old_df,value_name='TIME', value_vars= times.values.tolist())\n",
    "    old_df['TIME'] = temp['TIME']\n",
    "    old_df = old_df.drop(times, axis = 1)\n",
    "\n",
    "    old_df['UNIT'] = old_df['UNIT'].fillna('Unknown')\n",
    "    # add in Station info\n",
    "    old_df['STATION'] =  old_df.UNIT.map(lambda x: mapping_dict['Station'].get(x))\n",
    "    # add in Line info\n",
    "    old_df['LINENAME'] = old_df.UNIT.map(lambda x: mapping_dict['LineName'].get(x))\n",
    "    # add in Division\n",
    "    old_df['DIVISION'] = np.nan\n",
    "\n",
    "    # reorder columns to match new format\n",
    "    old_df = old_df[headers_new]\n",
    "\n",
    "    return old_df\n",
    "\n",
    "def remove_bad_date_rows(x):\n",
    "    '''\n",
    "        Function to remove rows where the date is in a bad format. This is used in the old data\n",
    "        where a bad date indicates row doesnt contain clean data and row should be discarded\n",
    "    '''\n",
    "    try:\n",
    "        x_new = datetime.datetime.strptime(x, '%m-%d-%y')\n",
    "    except Exception as e:\n",
    "        x_new = 'DROP'\n",
    "    return x_new"
   ]
  },
  {
   "cell_type": "markdown",
   "metadata": {},
   "source": [
    "### 1) Data Processing Cleaning\n",
    "To start the data challenge, I created the *combine_urls* function to scrape MTA data and combine into a text file. \n",
    "\n",
    "The function has the following parameters: \n",
    "*date_range*: this is needed to be able to scrape MTA data in both the new and old formats\n",
    "*out_file*: the name of the file to write to\n",
    "*mta_data_type*: if data is in the new format then 'new' has to be specified, so that the header can be removed from each file.\n",
    "\n",
    "Next, I change the format of the old data to match that of the new data. \n",
    "The old data from before 10/18/2014 was in a long format, so I used the melt function to reformat these columns into one. I did this for the DESC, DATE, and TIME columns. I combined all the ENTRIES into one column and EXITS also, and created the turnstile busyness metric. I added the Station and LineName columns based on the mapping file online."
   ]
  },
  {
   "cell_type": "code",
   "execution_count": null,
   "metadata": {
    "collapsed": true
   },
   "outputs": [],
   "source": [
    "# write new data to a file\n",
    "new_file= data_dir + \"new_file_v3.txt\"\n",
    "outf_new = combine_urls(date_range=new_dates, out_file=new_file, mta_data_type = 'new')"
   ]
  },
  {
   "cell_type": "code",
   "execution_count": 5,
   "metadata": {
    "collapsed": false
   },
   "outputs": [
    {
     "name": "stdout",
     "output_type": "stream",
     "text": [
      "**************************************************\n",
      "Finished reading new data file with shape: (27076462, 11)\n",
      "**************************************************\n"
     ]
    }
   ],
   "source": [
    "new_file = data_dir + 'new_file_v3.txt'\n",
    "new_data = pd.read_csv(filepath_or_buffer=new_file, names=headers_new, header=None, delimiter=',',\n",
    "                       engine='c', encoding='utf-8', error_bad_lines=False, skiprows = [0], \n",
    "                       parse_dates=True, infer_datetime_format=True)\n",
    "print \"*\" *50\n",
    "print \"Finished reading new data file with shape:\", new_data.shape\n",
    "print \"*\" *50"
   ]
  },
  {
   "cell_type": "code",
   "execution_count": 6,
   "metadata": {
    "collapsed": false
   },
   "outputs": [
    {
     "data": {
      "text/html": [
       "<div>\n",
       "<table border=\"1\" class=\"dataframe\">\n",
       "  <thead>\n",
       "    <tr style=\"text-align: right;\">\n",
       "      <th></th>\n",
       "      <th>ControlArea</th>\n",
       "      <th>UNIT</th>\n",
       "      <th>SCP</th>\n",
       "      <th>STATION</th>\n",
       "      <th>LINENAME</th>\n",
       "      <th>DIVISION</th>\n",
       "      <th>DATE</th>\n",
       "      <th>TIME</th>\n",
       "      <th>DESC</th>\n",
       "      <th>ENTRIES</th>\n",
       "      <th>EXITS</th>\n",
       "    </tr>\n",
       "  </thead>\n",
       "  <tbody>\n",
       "    <tr>\n",
       "      <th>0</th>\n",
       "      <td>A060</td>\n",
       "      <td>R001</td>\n",
       "      <td>00-00-00</td>\n",
       "      <td>WHITEHALL ST</td>\n",
       "      <td>R1</td>\n",
       "      <td>BMT</td>\n",
       "      <td>10/11/2014</td>\n",
       "      <td>01:00:00</td>\n",
       "      <td>REGULAR</td>\n",
       "      <td>805439.0</td>\n",
       "      <td>1141080.0</td>\n",
       "    </tr>\n",
       "    <tr>\n",
       "      <th>1</th>\n",
       "      <td>A060</td>\n",
       "      <td>R001</td>\n",
       "      <td>00-00-00</td>\n",
       "      <td>WHITEHALL ST</td>\n",
       "      <td>R1</td>\n",
       "      <td>BMT</td>\n",
       "      <td>10/11/2014</td>\n",
       "      <td>05:00:00</td>\n",
       "      <td>REGULAR</td>\n",
       "      <td>805459.0</td>\n",
       "      <td>1141141.0</td>\n",
       "    </tr>\n",
       "    <tr>\n",
       "      <th>2</th>\n",
       "      <td>A060</td>\n",
       "      <td>R001</td>\n",
       "      <td>00-00-00</td>\n",
       "      <td>WHITEHALL ST</td>\n",
       "      <td>R1</td>\n",
       "      <td>BMT</td>\n",
       "      <td>10/11/2014</td>\n",
       "      <td>09:00:00</td>\n",
       "      <td>REGULAR</td>\n",
       "      <td>805589.0</td>\n",
       "      <td>1141257.0</td>\n",
       "    </tr>\n",
       "    <tr>\n",
       "      <th>3</th>\n",
       "      <td>A060</td>\n",
       "      <td>R001</td>\n",
       "      <td>00-00-00</td>\n",
       "      <td>WHITEHALL ST</td>\n",
       "      <td>R1</td>\n",
       "      <td>BMT</td>\n",
       "      <td>10/11/2014</td>\n",
       "      <td>13:00:00</td>\n",
       "      <td>REGULAR</td>\n",
       "      <td>805834.0</td>\n",
       "      <td>1141512.0</td>\n",
       "    </tr>\n",
       "    <tr>\n",
       "      <th>4</th>\n",
       "      <td>A060</td>\n",
       "      <td>R001</td>\n",
       "      <td>00-00-00</td>\n",
       "      <td>WHITEHALL ST</td>\n",
       "      <td>R1</td>\n",
       "      <td>BMT</td>\n",
       "      <td>10/11/2014</td>\n",
       "      <td>17:00:00</td>\n",
       "      <td>REGULAR</td>\n",
       "      <td>806150.0</td>\n",
       "      <td>1141903.0</td>\n",
       "    </tr>\n",
       "  </tbody>\n",
       "</table>\n",
       "</div>"
      ],
      "text/plain": [
       "  ControlArea  UNIT       SCP       STATION LINENAME DIVISION        DATE  \\\n",
       "0        A060  R001  00-00-00  WHITEHALL ST       R1      BMT  10/11/2014   \n",
       "1        A060  R001  00-00-00  WHITEHALL ST       R1      BMT  10/11/2014   \n",
       "2        A060  R001  00-00-00  WHITEHALL ST       R1      BMT  10/11/2014   \n",
       "3        A060  R001  00-00-00  WHITEHALL ST       R1      BMT  10/11/2014   \n",
       "4        A060  R001  00-00-00  WHITEHALL ST       R1      BMT  10/11/2014   \n",
       "\n",
       "       TIME     DESC   ENTRIES      EXITS  \n",
       "0  01:00:00  REGULAR  805439.0  1141080.0  \n",
       "1  05:00:00  REGULAR  805459.0  1141141.0  \n",
       "2  09:00:00  REGULAR  805589.0  1141257.0  \n",
       "3  13:00:00  REGULAR  805834.0  1141512.0  \n",
       "4  17:00:00  REGULAR  806150.0  1141903.0  "
      ]
     },
     "execution_count": 6,
     "metadata": {},
     "output_type": "execute_result"
    }
   ],
   "source": [
    "# inspect data\n",
    "new_data.head()"
   ]
  },
  {
   "cell_type": "code",
   "execution_count": 7,
   "metadata": {
    "collapsed": false
   },
   "outputs": [
    {
     "data": {
      "text/plain": [
       "ControlArea     object\n",
       "UNIT            object\n",
       "SCP             object\n",
       "STATION         object\n",
       "LINENAME        object\n",
       "DIVISION        object\n",
       "DATE            object\n",
       "TIME            object\n",
       "DESC            object\n",
       "ENTRIES        float64\n",
       "EXITS          float64\n",
       "dtype: object"
      ]
     },
     "execution_count": 7,
     "metadata": {},
     "output_type": "execute_result"
    }
   ],
   "source": [
    "# look at datatypes\n",
    "new_data.dtypes"
   ]
  },
  {
   "cell_type": "code",
   "execution_count": 8,
   "metadata": {
    "collapsed": false
   },
   "outputs": [],
   "source": [
    "# drop Division - we don t have this information for old data\n",
    "new_data = new_data.drop(['DIVISION'], axis=1)"
   ]
  },
  {
   "cell_type": "code",
   "execution_count": null,
   "metadata": {
    "collapsed": true
   },
   "outputs": [],
   "source": [
    "# write old data to a file\n",
    "old_file = data_dir + 'old_file.txt'\n",
    "outf_new = combine_urls(date_range=old_filed_dates, out_file=old_file, mta_data_type = 'old')"
   ]
  },
  {
   "cell_type": "code",
   "execution_count": 9,
   "metadata": {
    "collapsed": false
   },
   "outputs": [
    {
     "name": "stderr",
     "output_type": "stream",
     "text": [
      "/usr/local/lib/python2.7/site-packages/IPython/core/interactiveshell.py:2723: DtypeWarning: Columns (4,6,7,9,10,11,12,13,14,15,16,17,18,19,20,21,22,23,24,25,26,27,28,29,30,31,32,33,34,35,36,37,38,39,40,42) have mixed types. Specify dtype option on import or set low_memory=False.\n",
      "  interactivity=interactivity, compiler=compiler, result=result)\n"
     ]
    },
    {
     "name": "stdout",
     "output_type": "stream",
     "text": [
      "**************************************************\n",
      "Finished reading old file with shape: (5899719, 43)\n",
      "**************************************************\n"
     ]
    }
   ],
   "source": [
    "old_file = data_dir + 'old_file.txt'\n",
    "old_data = pd.read_csv(filepath_or_buffer=old_file, names=headers_old, header=None, delimiter=',',\n",
    "                       engine='c', encoding='utf-8', error_bad_lines=False, skiprows = [0], \n",
    "                       dtype={'DATE':np.datetime64})\n",
    "\n",
    "print \"*\" *50\n",
    "print \"Finished reading old file with shape:\", old_data.shape\n",
    "print \"*\" *50"
   ]
  },
  {
   "cell_type": "code",
   "execution_count": 10,
   "metadata": {
    "collapsed": false
   },
   "outputs": [
    {
     "data": {
      "text/html": [
       "<div>\n",
       "<table border=\"1\" class=\"dataframe\">\n",
       "  <thead>\n",
       "    <tr style=\"text-align: right;\">\n",
       "      <th></th>\n",
       "      <th>ControlArea</th>\n",
       "      <th>UNIT</th>\n",
       "      <th>SCP</th>\n",
       "      <th>DATE1</th>\n",
       "      <th>TIME1</th>\n",
       "      <th>DESC1</th>\n",
       "      <th>ENTRIES1</th>\n",
       "      <th>EXITS1</th>\n",
       "      <th>DATE2</th>\n",
       "      <th>TIME2</th>\n",
       "      <th>...</th>\n",
       "      <th>DATE7</th>\n",
       "      <th>TIME7</th>\n",
       "      <th>DESC7</th>\n",
       "      <th>ENTRIES7</th>\n",
       "      <th>EXITS7</th>\n",
       "      <th>DATE8</th>\n",
       "      <th>TIME8</th>\n",
       "      <th>DESC8</th>\n",
       "      <th>ENTRIES8</th>\n",
       "      <th>EXITS8</th>\n",
       "    </tr>\n",
       "  </thead>\n",
       "  <tbody>\n",
       "    <tr>\n",
       "      <th>0</th>\n",
       "      <td>A002</td>\n",
       "      <td>R051</td>\n",
       "      <td>02-00-00</td>\n",
       "      <td>01-02-11</td>\n",
       "      <td>11:00:00</td>\n",
       "      <td>REGULAR</td>\n",
       "      <td>2994794</td>\n",
       "      <td>1033818</td>\n",
       "      <td>01-02-11</td>\n",
       "      <td>15:00:00</td>\n",
       "      <td>...</td>\n",
       "      <td>01-03-11</td>\n",
       "      <td>11:00:00</td>\n",
       "      <td>REGULAR</td>\n",
       "      <td>2.99542e+06</td>\n",
       "      <td>1.03428e+06</td>\n",
       "      <td>01-03-11</td>\n",
       "      <td>15:00:00</td>\n",
       "      <td>REGULAR</td>\n",
       "      <td>2995634.0</td>\n",
       "      <td>1.03436e+06</td>\n",
       "    </tr>\n",
       "    <tr>\n",
       "      <th>1</th>\n",
       "      <td>A002</td>\n",
       "      <td>R051</td>\n",
       "      <td>02-00-00</td>\n",
       "      <td>01-03-11</td>\n",
       "      <td>19:00:00</td>\n",
       "      <td>REGULAR</td>\n",
       "      <td>2996441</td>\n",
       "      <td>1034426</td>\n",
       "      <td>01-03-11</td>\n",
       "      <td>23:00:00</td>\n",
       "      <td>...</td>\n",
       "      <td>01-04-11</td>\n",
       "      <td>19:00:00</td>\n",
       "      <td>REGULAR</td>\n",
       "      <td>2.99787e+06</td>\n",
       "      <td>1.03497e+06</td>\n",
       "      <td>01-04-11</td>\n",
       "      <td>23:00:00</td>\n",
       "      <td>REGULAR</td>\n",
       "      <td>2998176.0</td>\n",
       "      <td>1.03499e+06</td>\n",
       "    </tr>\n",
       "    <tr>\n",
       "      <th>2</th>\n",
       "      <td>A002</td>\n",
       "      <td>R051</td>\n",
       "      <td>02-00-00</td>\n",
       "      <td>01-05-11</td>\n",
       "      <td>03:00:00</td>\n",
       "      <td>REGULAR</td>\n",
       "      <td>2998197</td>\n",
       "      <td>1034992</td>\n",
       "      <td>01-05-11</td>\n",
       "      <td>07:00:00</td>\n",
       "      <td>...</td>\n",
       "      <td>01-06-11</td>\n",
       "      <td>03:00:00</td>\n",
       "      <td>REGULAR</td>\n",
       "      <td>2.9997e+06</td>\n",
       "      <td>1.03554e+06</td>\n",
       "      <td>01-06-11</td>\n",
       "      <td>07:00:00</td>\n",
       "      <td>REGULAR</td>\n",
       "      <td>2999713.0</td>\n",
       "      <td>1.03558e+06</td>\n",
       "    </tr>\n",
       "    <tr>\n",
       "      <th>3</th>\n",
       "      <td>A002</td>\n",
       "      <td>R051</td>\n",
       "      <td>02-00-00</td>\n",
       "      <td>01-06-11</td>\n",
       "      <td>11:00:00</td>\n",
       "      <td>REGULAR</td>\n",
       "      <td>2999856</td>\n",
       "      <td>1035815</td>\n",
       "      <td>01-06-11</td>\n",
       "      <td>13:32:32</td>\n",
       "      <td>...</td>\n",
       "      <td>01-07-11</td>\n",
       "      <td>07:00:00</td>\n",
       "      <td>REGULAR</td>\n",
       "      <td>3.00123e+06</td>\n",
       "      <td>1.03589e+06</td>\n",
       "      <td>01-07-11</td>\n",
       "      <td>09:06:36</td>\n",
       "      <td>DOOR</td>\n",
       "      <td>3001298.0</td>\n",
       "      <td>1.03612e+06</td>\n",
       "    </tr>\n",
       "    <tr>\n",
       "      <th>4</th>\n",
       "      <td>A002</td>\n",
       "      <td>R051</td>\n",
       "      <td>02-00-00</td>\n",
       "      <td>01-07-11</td>\n",
       "      <td>09:06:44</td>\n",
       "      <td>DOOR</td>\n",
       "      <td>3001298</td>\n",
       "      <td>1036119</td>\n",
       "      <td>01-07-11</td>\n",
       "      <td>09:08:15</td>\n",
       "      <td>...</td>\n",
       "      <td>01-07-11</td>\n",
       "      <td>23:00:00</td>\n",
       "      <td>REGULAR</td>\n",
       "      <td>3.00266e+06</td>\n",
       "      <td>1.03640e+06</td>\n",
       "      <td>NaN</td>\n",
       "      <td>NaN</td>\n",
       "      <td>NaN</td>\n",
       "      <td>NaN</td>\n",
       "      <td>NaN</td>\n",
       "    </tr>\n",
       "  </tbody>\n",
       "</table>\n",
       "<p>5 rows × 43 columns</p>\n",
       "</div>"
      ],
      "text/plain": [
       "  ControlArea  UNIT       SCP     DATE1     TIME1    DESC1 ENTRIES1   EXITS1  \\\n",
       "0        A002  R051  02-00-00  01-02-11  11:00:00  REGULAR  2994794  1033818   \n",
       "1        A002  R051  02-00-00  01-03-11  19:00:00  REGULAR  2996441  1034426   \n",
       "2        A002  R051  02-00-00  01-05-11  03:00:00  REGULAR  2998197  1034992   \n",
       "3        A002  R051  02-00-00  01-06-11  11:00:00  REGULAR  2999856  1035815   \n",
       "4        A002  R051  02-00-00  01-07-11  09:06:44     DOOR  3001298  1036119   \n",
       "\n",
       "      DATE2     TIME2     ...          DATE7     TIME7    DESC7     ENTRIES7  \\\n",
       "0  01-02-11  15:00:00     ...       01-03-11  11:00:00  REGULAR  2.99542e+06   \n",
       "1  01-03-11  23:00:00     ...       01-04-11  19:00:00  REGULAR  2.99787e+06   \n",
       "2  01-05-11  07:00:00     ...       01-06-11  03:00:00  REGULAR   2.9997e+06   \n",
       "3  01-06-11  13:32:32     ...       01-07-11  07:00:00  REGULAR  3.00123e+06   \n",
       "4  01-07-11  09:08:15     ...       01-07-11  23:00:00  REGULAR  3.00266e+06   \n",
       "\n",
       "        EXITS7     DATE8     TIME8    DESC8   ENTRIES8       EXITS8  \n",
       "0  1.03428e+06  01-03-11  15:00:00  REGULAR  2995634.0  1.03436e+06  \n",
       "1  1.03497e+06  01-04-11  23:00:00  REGULAR  2998176.0  1.03499e+06  \n",
       "2  1.03554e+06  01-06-11  07:00:00  REGULAR  2999713.0  1.03558e+06  \n",
       "3  1.03589e+06  01-07-11  09:06:36     DOOR  3001298.0  1.03612e+06  \n",
       "4  1.03640e+06       NaN       NaN      NaN        NaN          NaN  \n",
       "\n",
       "[5 rows x 43 columns]"
      ]
     },
     "execution_count": 10,
     "metadata": {},
     "output_type": "execute_result"
    }
   ],
   "source": [
    "# looks like there is quite some formating that needs to get done to get the old data in the same format as the new!\n",
    "old_data.head()"
   ]
  },
  {
   "cell_type": "code",
   "execution_count": 11,
   "metadata": {
    "collapsed": false
   },
   "outputs": [],
   "source": [
    "# fill null values in numeric columns (entries & exists)\n",
    "entries = old_data.columns[old_data.columns.str.contains('ENTRIES')]\n",
    "old_data[entries] = old_data[entries].fillna(0.0)\n",
    "exits = old_data.columns[old_data.columns.str.contains('EXITS')]\n",
    "old_data[exits] = old_data[exits].fillna(0.0)\n"
   ]
  },
  {
   "cell_type": "code",
   "execution_count": 12,
   "metadata": {
    "collapsed": false
   },
   "outputs": [
    {
     "name": "stderr",
     "output_type": "stream",
     "text": [
      "/usr/local/lib/python2.7/site-packages/ipykernel/__main__.py:4: FutureWarning: using '+' to provide set union with Indexes is deprecated, use '|' or .union()\n"
     ]
    }
   ],
   "source": [
    "# create column of total entries and exists\n",
    "old_data['ENTRIES'] = old_data[entries].sum(axis=1)\n",
    "old_data['EXITS'] = old_data[exits].sum(axis=1)\n",
    "old_data = old_data.drop(entries + exits, axis=1)\n"
   ]
  },
  {
   "cell_type": "code",
   "execution_count": 14,
   "metadata": {
    "collapsed": false
   },
   "outputs": [],
   "source": [
    "# combine DESC\n",
    "desc = old_data.columns[old_data.columns.str.contains('DESC')]\n",
    "temp = pd.melt(frame=old_data, value_name='DESC', value_vars= desc.values.tolist())\n",
    "old_data['DESC'] = temp['DESC']\n",
    "old_data = old_data.drop(desc, axis = 1)\n"
   ]
  },
  {
   "cell_type": "code",
   "execution_count": 15,
   "metadata": {
    "collapsed": true
   },
   "outputs": [],
   "source": [
    "# combine DATE\n",
    "dates = old_data.columns[old_data.columns.str.contains('DATE')]\n",
    "temp = pd.melt(frame=old_data,value_name='DATE', value_vars=dates.values.tolist())\n",
    "old_data['DATE'] = temp['DATE']\n",
    "old_data = old_data.drop(dates, axis = 1)"
   ]
  },
  {
   "cell_type": "code",
   "execution_count": 16,
   "metadata": {
    "collapsed": true
   },
   "outputs": [],
   "source": [
    "# combine TIME\n",
    "times = old_data.columns[old_data.columns.str.contains('TIME')]\n",
    "temp = pd.melt(frame=old_data,value_name='TIME', value_vars= times.values.tolist())\n",
    "old_data['TIME'] = temp['TIME']\n",
    "old_data = old_data.drop(times, axis = 1)\n"
   ]
  },
  {
   "cell_type": "code",
   "execution_count": 17,
   "metadata": {
    "collapsed": false
   },
   "outputs": [
    {
     "data": {
      "text/html": [
       "<div>\n",
       "<table border=\"1\" class=\"dataframe\">\n",
       "  <thead>\n",
       "    <tr style=\"text-align: right;\">\n",
       "      <th></th>\n",
       "      <th>ControlArea</th>\n",
       "      <th>UNIT</th>\n",
       "      <th>SCP</th>\n",
       "      <th>ENTRIES</th>\n",
       "      <th>EXITS</th>\n",
       "      <th>DESC</th>\n",
       "      <th>DATE</th>\n",
       "      <th>TIME</th>\n",
       "    </tr>\n",
       "  </thead>\n",
       "  <tbody>\n",
       "    <tr>\n",
       "      <th>0</th>\n",
       "      <td>A002</td>\n",
       "      <td>R051</td>\n",
       "      <td>02-00-00</td>\n",
       "      <td>2995634.0</td>\n",
       "      <td>0.0</td>\n",
       "      <td>REGULAR</td>\n",
       "      <td>01-02-11</td>\n",
       "      <td>11:00:00</td>\n",
       "    </tr>\n",
       "    <tr>\n",
       "      <th>1</th>\n",
       "      <td>A002</td>\n",
       "      <td>R051</td>\n",
       "      <td>02-00-00</td>\n",
       "      <td>2998176.0</td>\n",
       "      <td>0.0</td>\n",
       "      <td>REGULAR</td>\n",
       "      <td>01-03-11</td>\n",
       "      <td>19:00:00</td>\n",
       "    </tr>\n",
       "    <tr>\n",
       "      <th>2</th>\n",
       "      <td>A002</td>\n",
       "      <td>R051</td>\n",
       "      <td>02-00-00</td>\n",
       "      <td>2999713.0</td>\n",
       "      <td>0.0</td>\n",
       "      <td>REGULAR</td>\n",
       "      <td>01-05-11</td>\n",
       "      <td>03:00:00</td>\n",
       "    </tr>\n",
       "    <tr>\n",
       "      <th>3</th>\n",
       "      <td>A002</td>\n",
       "      <td>R051</td>\n",
       "      <td>02-00-00</td>\n",
       "      <td>3001298.0</td>\n",
       "      <td>0.0</td>\n",
       "      <td>REGULAR</td>\n",
       "      <td>01-06-11</td>\n",
       "      <td>11:00:00</td>\n",
       "    </tr>\n",
       "    <tr>\n",
       "      <th>4</th>\n",
       "      <td>A002</td>\n",
       "      <td>R051</td>\n",
       "      <td>02-00-00</td>\n",
       "      <td>0.0</td>\n",
       "      <td>0.0</td>\n",
       "      <td>DOOR</td>\n",
       "      <td>01-07-11</td>\n",
       "      <td>09:06:44</td>\n",
       "    </tr>\n",
       "  </tbody>\n",
       "</table>\n",
       "</div>"
      ],
      "text/plain": [
       "  ControlArea  UNIT       SCP    ENTRIES  EXITS     DESC      DATE      TIME\n",
       "0        A002  R051  02-00-00  2995634.0    0.0  REGULAR  01-02-11  11:00:00\n",
       "1        A002  R051  02-00-00  2998176.0    0.0  REGULAR  01-03-11  19:00:00\n",
       "2        A002  R051  02-00-00  2999713.0    0.0  REGULAR  01-05-11  03:00:00\n",
       "3        A002  R051  02-00-00  3001298.0    0.0  REGULAR  01-06-11  11:00:00\n",
       "4        A002  R051  02-00-00        0.0    0.0     DOOR  01-07-11  09:06:44"
      ]
     },
     "execution_count": 17,
     "metadata": {},
     "output_type": "execute_result"
    }
   ],
   "source": [
    "old_data.head()"
   ]
  },
  {
   "cell_type": "code",
   "execution_count": 18,
   "metadata": {
    "collapsed": false
   },
   "outputs": [],
   "source": [
    "# Fill NA\n",
    "old_data['UNIT'] = old_data['UNIT'].fillna('Unknown')"
   ]
  },
  {
   "cell_type": "code",
   "execution_count": 19,
   "metadata": {
    "collapsed": true
   },
   "outputs": [],
   "source": [
    "# add in Station info\n",
    "old_data['STATION'] = old_data.UNIT.map(lambda x: d['Station'].get(x))"
   ]
  },
  {
   "cell_type": "code",
   "execution_count": 20,
   "metadata": {
    "collapsed": true
   },
   "outputs": [],
   "source": [
    "# add in Line info\n",
    "old_data['LINENAME'] = old_data.UNIT.map(lambda x: d['LineName'].get(x))"
   ]
  },
  {
   "cell_type": "code",
   "execution_count": 21,
   "metadata": {
    "collapsed": false
   },
   "outputs": [],
   "source": [
    "# reorder columns to match new format\n",
    "old_data = old_data[new_data.columns]"
   ]
  },
  {
   "cell_type": "code",
   "execution_count": 22,
   "metadata": {
    "collapsed": false
   },
   "outputs": [
    {
     "data": {
      "text/html": [
       "<div>\n",
       "<table border=\"1\" class=\"dataframe\">\n",
       "  <thead>\n",
       "    <tr style=\"text-align: right;\">\n",
       "      <th></th>\n",
       "      <th>ControlArea</th>\n",
       "      <th>UNIT</th>\n",
       "      <th>SCP</th>\n",
       "      <th>STATION</th>\n",
       "      <th>LINENAME</th>\n",
       "      <th>DATE</th>\n",
       "      <th>TIME</th>\n",
       "      <th>DESC</th>\n",
       "      <th>ENTRIES</th>\n",
       "      <th>EXITS</th>\n",
       "    </tr>\n",
       "  </thead>\n",
       "  <tbody>\n",
       "    <tr>\n",
       "      <th>0</th>\n",
       "      <td>A002</td>\n",
       "      <td>R051</td>\n",
       "      <td>02-00-00</td>\n",
       "      <td>[59 ST, LEXINGTON AVE]</td>\n",
       "      <td>[456NQR, 456NQR]</td>\n",
       "      <td>01-02-11</td>\n",
       "      <td>11:00:00</td>\n",
       "      <td>REGULAR</td>\n",
       "      <td>2995634.0</td>\n",
       "      <td>0.0</td>\n",
       "    </tr>\n",
       "    <tr>\n",
       "      <th>1</th>\n",
       "      <td>A002</td>\n",
       "      <td>R051</td>\n",
       "      <td>02-00-00</td>\n",
       "      <td>[59 ST, LEXINGTON AVE]</td>\n",
       "      <td>[456NQR, 456NQR]</td>\n",
       "      <td>01-03-11</td>\n",
       "      <td>19:00:00</td>\n",
       "      <td>REGULAR</td>\n",
       "      <td>2998176.0</td>\n",
       "      <td>0.0</td>\n",
       "    </tr>\n",
       "    <tr>\n",
       "      <th>2</th>\n",
       "      <td>A002</td>\n",
       "      <td>R051</td>\n",
       "      <td>02-00-00</td>\n",
       "      <td>[59 ST, LEXINGTON AVE]</td>\n",
       "      <td>[456NQR, 456NQR]</td>\n",
       "      <td>01-05-11</td>\n",
       "      <td>03:00:00</td>\n",
       "      <td>REGULAR</td>\n",
       "      <td>2999713.0</td>\n",
       "      <td>0.0</td>\n",
       "    </tr>\n",
       "    <tr>\n",
       "      <th>3</th>\n",
       "      <td>A002</td>\n",
       "      <td>R051</td>\n",
       "      <td>02-00-00</td>\n",
       "      <td>[59 ST, LEXINGTON AVE]</td>\n",
       "      <td>[456NQR, 456NQR]</td>\n",
       "      <td>01-06-11</td>\n",
       "      <td>11:00:00</td>\n",
       "      <td>REGULAR</td>\n",
       "      <td>3001298.0</td>\n",
       "      <td>0.0</td>\n",
       "    </tr>\n",
       "    <tr>\n",
       "      <th>4</th>\n",
       "      <td>A002</td>\n",
       "      <td>R051</td>\n",
       "      <td>02-00-00</td>\n",
       "      <td>[59 ST, LEXINGTON AVE]</td>\n",
       "      <td>[456NQR, 456NQR]</td>\n",
       "      <td>01-07-11</td>\n",
       "      <td>09:06:44</td>\n",
       "      <td>DOOR</td>\n",
       "      <td>0.0</td>\n",
       "      <td>0.0</td>\n",
       "    </tr>\n",
       "  </tbody>\n",
       "</table>\n",
       "</div>"
      ],
      "text/plain": [
       "  ControlArea  UNIT       SCP                 STATION          LINENAME  \\\n",
       "0        A002  R051  02-00-00  [59 ST, LEXINGTON AVE]  [456NQR, 456NQR]   \n",
       "1        A002  R051  02-00-00  [59 ST, LEXINGTON AVE]  [456NQR, 456NQR]   \n",
       "2        A002  R051  02-00-00  [59 ST, LEXINGTON AVE]  [456NQR, 456NQR]   \n",
       "3        A002  R051  02-00-00  [59 ST, LEXINGTON AVE]  [456NQR, 456NQR]   \n",
       "4        A002  R051  02-00-00  [59 ST, LEXINGTON AVE]  [456NQR, 456NQR]   \n",
       "\n",
       "       DATE      TIME     DESC    ENTRIES  EXITS  \n",
       "0  01-02-11  11:00:00  REGULAR  2995634.0    0.0  \n",
       "1  01-03-11  19:00:00  REGULAR  2998176.0    0.0  \n",
       "2  01-05-11  03:00:00  REGULAR  2999713.0    0.0  \n",
       "3  01-06-11  11:00:00  REGULAR  3001298.0    0.0  \n",
       "4  01-07-11  09:06:44     DOOR        0.0    0.0  "
      ]
     },
     "execution_count": 22,
     "metadata": {},
     "output_type": "execute_result"
    }
   ],
   "source": [
    "old_data.head()"
   ]
  },
  {
   "cell_type": "code",
   "execution_count": 23,
   "metadata": {
    "collapsed": false
   },
   "outputs": [
    {
     "data": {
      "text/plain": [
       "ControlArea     object\n",
       "UNIT            object\n",
       "SCP             object\n",
       "STATION         object\n",
       "LINENAME        object\n",
       "DATE            object\n",
       "TIME            object\n",
       "DESC            object\n",
       "ENTRIES        float64\n",
       "EXITS          float64\n",
       "dtype: object"
      ]
     },
     "execution_count": 23,
     "metadata": {},
     "output_type": "execute_result"
    }
   ],
   "source": [
    "old_data.dtypes"
   ]
  },
  {
   "cell_type": "code",
   "execution_count": 24,
   "metadata": {
    "collapsed": false
   },
   "outputs": [
    {
     "data": {
      "text/html": [
       "<div>\n",
       "<table border=\"1\" class=\"dataframe\">\n",
       "  <thead>\n",
       "    <tr style=\"text-align: right;\">\n",
       "      <th></th>\n",
       "      <th>ControlArea</th>\n",
       "      <th>UNIT</th>\n",
       "      <th>SCP</th>\n",
       "      <th>STATION</th>\n",
       "      <th>LINENAME</th>\n",
       "      <th>DATE</th>\n",
       "      <th>TIME</th>\n",
       "      <th>DESC</th>\n",
       "      <th>ENTRIES</th>\n",
       "      <th>EXITS</th>\n",
       "    </tr>\n",
       "  </thead>\n",
       "  <tbody>\n",
       "    <tr>\n",
       "      <th>0</th>\n",
       "      <td>A060</td>\n",
       "      <td>R001</td>\n",
       "      <td>00-00-00</td>\n",
       "      <td>WHITEHALL ST</td>\n",
       "      <td>R1</td>\n",
       "      <td>10/11/2014</td>\n",
       "      <td>01:00:00</td>\n",
       "      <td>REGULAR</td>\n",
       "      <td>805439.0</td>\n",
       "      <td>1141080.0</td>\n",
       "    </tr>\n",
       "    <tr>\n",
       "      <th>1</th>\n",
       "      <td>A060</td>\n",
       "      <td>R001</td>\n",
       "      <td>00-00-00</td>\n",
       "      <td>WHITEHALL ST</td>\n",
       "      <td>R1</td>\n",
       "      <td>10/11/2014</td>\n",
       "      <td>05:00:00</td>\n",
       "      <td>REGULAR</td>\n",
       "      <td>805459.0</td>\n",
       "      <td>1141141.0</td>\n",
       "    </tr>\n",
       "    <tr>\n",
       "      <th>2</th>\n",
       "      <td>A060</td>\n",
       "      <td>R001</td>\n",
       "      <td>00-00-00</td>\n",
       "      <td>WHITEHALL ST</td>\n",
       "      <td>R1</td>\n",
       "      <td>10/11/2014</td>\n",
       "      <td>09:00:00</td>\n",
       "      <td>REGULAR</td>\n",
       "      <td>805589.0</td>\n",
       "      <td>1141257.0</td>\n",
       "    </tr>\n",
       "    <tr>\n",
       "      <th>3</th>\n",
       "      <td>A060</td>\n",
       "      <td>R001</td>\n",
       "      <td>00-00-00</td>\n",
       "      <td>WHITEHALL ST</td>\n",
       "      <td>R1</td>\n",
       "      <td>10/11/2014</td>\n",
       "      <td>13:00:00</td>\n",
       "      <td>REGULAR</td>\n",
       "      <td>805834.0</td>\n",
       "      <td>1141512.0</td>\n",
       "    </tr>\n",
       "    <tr>\n",
       "      <th>4</th>\n",
       "      <td>A060</td>\n",
       "      <td>R001</td>\n",
       "      <td>00-00-00</td>\n",
       "      <td>WHITEHALL ST</td>\n",
       "      <td>R1</td>\n",
       "      <td>10/11/2014</td>\n",
       "      <td>17:00:00</td>\n",
       "      <td>REGULAR</td>\n",
       "      <td>806150.0</td>\n",
       "      <td>1141903.0</td>\n",
       "    </tr>\n",
       "  </tbody>\n",
       "</table>\n",
       "</div>"
      ],
      "text/plain": [
       "  ControlArea  UNIT       SCP       STATION LINENAME        DATE      TIME  \\\n",
       "0        A060  R001  00-00-00  WHITEHALL ST       R1  10/11/2014  01:00:00   \n",
       "1        A060  R001  00-00-00  WHITEHALL ST       R1  10/11/2014  05:00:00   \n",
       "2        A060  R001  00-00-00  WHITEHALL ST       R1  10/11/2014  09:00:00   \n",
       "3        A060  R001  00-00-00  WHITEHALL ST       R1  10/11/2014  13:00:00   \n",
       "4        A060  R001  00-00-00  WHITEHALL ST       R1  10/11/2014  17:00:00   \n",
       "\n",
       "      DESC   ENTRIES      EXITS  \n",
       "0  REGULAR  805439.0  1141080.0  \n",
       "1  REGULAR  805459.0  1141141.0  \n",
       "2  REGULAR  805589.0  1141257.0  \n",
       "3  REGULAR  805834.0  1141512.0  \n",
       "4  REGULAR  806150.0  1141903.0  "
      ]
     },
     "execution_count": 24,
     "metadata": {},
     "output_type": "execute_result"
    }
   ],
   "source": [
    "new_data.head()"
   ]
  },
  {
   "cell_type": "code",
   "execution_count": 25,
   "metadata": {
    "collapsed": true
   },
   "outputs": [],
   "source": [
    "# add turnstile_busyness metric\n",
    "new_data['turnstile_busyness'] = new_data.ENTRIES + new_data.EXITS"
   ]
  },
  {
   "cell_type": "code",
   "execution_count": 26,
   "metadata": {
    "collapsed": true
   },
   "outputs": [],
   "source": [
    "# add turnstile_busyness metric\n",
    "old_data['turnstile_busyness'] = old_data.ENTRIES + old_data.ENTRIES"
   ]
  },
  {
   "cell_type": "code",
   "execution_count": 96,
   "metadata": {
    "collapsed": false
   },
   "outputs": [
    {
     "data": {
      "text/html": [
       "<div>\n",
       "<table border=\"1\" class=\"dataframe\">\n",
       "  <thead>\n",
       "    <tr style=\"text-align: right;\">\n",
       "      <th></th>\n",
       "      <th>ControlArea</th>\n",
       "      <th>UNIT</th>\n",
       "      <th>SCP</th>\n",
       "      <th>STATION</th>\n",
       "      <th>LINENAME</th>\n",
       "      <th>DATE</th>\n",
       "      <th>TIME</th>\n",
       "      <th>DESC</th>\n",
       "      <th>ENTRIES</th>\n",
       "      <th>EXITS</th>\n",
       "      <th>turnstile_busyness</th>\n",
       "      <th>MONTH</th>\n",
       "      <th>YEAR</th>\n",
       "    </tr>\n",
       "  </thead>\n",
       "  <tbody>\n",
       "    <tr>\n",
       "      <th>0</th>\n",
       "      <td>A060</td>\n",
       "      <td>R001</td>\n",
       "      <td>00-00-00</td>\n",
       "      <td>WHITEHALL ST</td>\n",
       "      <td>R1</td>\n",
       "      <td>2014-10-11</td>\n",
       "      <td>01:00:00</td>\n",
       "      <td>REGULAR</td>\n",
       "      <td>805439.0</td>\n",
       "      <td>1141080.0</td>\n",
       "      <td>1946519.0</td>\n",
       "      <td>10</td>\n",
       "      <td>2014</td>\n",
       "    </tr>\n",
       "    <tr>\n",
       "      <th>1</th>\n",
       "      <td>A060</td>\n",
       "      <td>R001</td>\n",
       "      <td>00-00-00</td>\n",
       "      <td>WHITEHALL ST</td>\n",
       "      <td>R1</td>\n",
       "      <td>2014-10-11</td>\n",
       "      <td>05:00:00</td>\n",
       "      <td>REGULAR</td>\n",
       "      <td>805459.0</td>\n",
       "      <td>1141141.0</td>\n",
       "      <td>1946600.0</td>\n",
       "      <td>10</td>\n",
       "      <td>2014</td>\n",
       "    </tr>\n",
       "    <tr>\n",
       "      <th>2</th>\n",
       "      <td>A060</td>\n",
       "      <td>R001</td>\n",
       "      <td>00-00-00</td>\n",
       "      <td>WHITEHALL ST</td>\n",
       "      <td>R1</td>\n",
       "      <td>2014-10-11</td>\n",
       "      <td>09:00:00</td>\n",
       "      <td>REGULAR</td>\n",
       "      <td>805589.0</td>\n",
       "      <td>1141257.0</td>\n",
       "      <td>1946846.0</td>\n",
       "      <td>10</td>\n",
       "      <td>2014</td>\n",
       "    </tr>\n",
       "    <tr>\n",
       "      <th>3</th>\n",
       "      <td>A060</td>\n",
       "      <td>R001</td>\n",
       "      <td>00-00-00</td>\n",
       "      <td>WHITEHALL ST</td>\n",
       "      <td>R1</td>\n",
       "      <td>2014-10-11</td>\n",
       "      <td>13:00:00</td>\n",
       "      <td>REGULAR</td>\n",
       "      <td>805834.0</td>\n",
       "      <td>1141512.0</td>\n",
       "      <td>1947346.0</td>\n",
       "      <td>10</td>\n",
       "      <td>2014</td>\n",
       "    </tr>\n",
       "    <tr>\n",
       "      <th>4</th>\n",
       "      <td>A060</td>\n",
       "      <td>R001</td>\n",
       "      <td>00-00-00</td>\n",
       "      <td>WHITEHALL ST</td>\n",
       "      <td>R1</td>\n",
       "      <td>2014-10-11</td>\n",
       "      <td>17:00:00</td>\n",
       "      <td>REGULAR</td>\n",
       "      <td>806150.0</td>\n",
       "      <td>1141903.0</td>\n",
       "      <td>1948053.0</td>\n",
       "      <td>10</td>\n",
       "      <td>2014</td>\n",
       "    </tr>\n",
       "  </tbody>\n",
       "</table>\n",
       "</div>"
      ],
      "text/plain": [
       "  ControlArea  UNIT       SCP       STATION LINENAME       DATE      TIME  \\\n",
       "0        A060  R001  00-00-00  WHITEHALL ST       R1 2014-10-11  01:00:00   \n",
       "1        A060  R001  00-00-00  WHITEHALL ST       R1 2014-10-11  05:00:00   \n",
       "2        A060  R001  00-00-00  WHITEHALL ST       R1 2014-10-11  09:00:00   \n",
       "3        A060  R001  00-00-00  WHITEHALL ST       R1 2014-10-11  13:00:00   \n",
       "4        A060  R001  00-00-00  WHITEHALL ST       R1 2014-10-11  17:00:00   \n",
       "\n",
       "      DESC   ENTRIES      EXITS  turnstile_busyness  MONTH  YEAR  \n",
       "0  REGULAR  805439.0  1141080.0           1946519.0     10  2014  \n",
       "1  REGULAR  805459.0  1141141.0           1946600.0     10  2014  \n",
       "2  REGULAR  805589.0  1141257.0           1946846.0     10  2014  \n",
       "3  REGULAR  805834.0  1141512.0           1947346.0     10  2014  \n",
       "4  REGULAR  806150.0  1141903.0           1948053.0     10  2014  "
      ]
     },
     "execution_count": 96,
     "metadata": {},
     "output_type": "execute_result"
    }
   ],
   "source": [
    "new_data.head()"
   ]
  },
  {
   "cell_type": "code",
   "execution_count": 123,
   "metadata": {
    "collapsed": false
   },
   "outputs": [
    {
     "data": {
      "text/html": [
       "<div>\n",
       "<table border=\"1\" class=\"dataframe\">\n",
       "  <thead>\n",
       "    <tr style=\"text-align: right;\">\n",
       "      <th></th>\n",
       "      <th>ControlArea</th>\n",
       "      <th>UNIT</th>\n",
       "      <th>SCP</th>\n",
       "      <th>STATION</th>\n",
       "      <th>LINENAME</th>\n",
       "      <th>DATE</th>\n",
       "      <th>TIME</th>\n",
       "      <th>DESC</th>\n",
       "      <th>ENTRIES</th>\n",
       "      <th>EXITS</th>\n",
       "      <th>turnstile_busyness</th>\n",
       "    </tr>\n",
       "  </thead>\n",
       "  <tbody>\n",
       "    <tr>\n",
       "      <th>0</th>\n",
       "      <td>A002</td>\n",
       "      <td>R051</td>\n",
       "      <td>02-00-00</td>\n",
       "      <td>[59 ST, LEXINGTON AVE]</td>\n",
       "      <td>[456NQR, 456NQR]</td>\n",
       "      <td>01-02-11</td>\n",
       "      <td>11:00:00</td>\n",
       "      <td>REGULAR</td>\n",
       "      <td>2995634.0</td>\n",
       "      <td>0.0</td>\n",
       "      <td>5991268.0</td>\n",
       "    </tr>\n",
       "    <tr>\n",
       "      <th>1</th>\n",
       "      <td>A002</td>\n",
       "      <td>R051</td>\n",
       "      <td>02-00-00</td>\n",
       "      <td>[59 ST, LEXINGTON AVE]</td>\n",
       "      <td>[456NQR, 456NQR]</td>\n",
       "      <td>01-03-11</td>\n",
       "      <td>19:00:00</td>\n",
       "      <td>REGULAR</td>\n",
       "      <td>2998176.0</td>\n",
       "      <td>0.0</td>\n",
       "      <td>5996352.0</td>\n",
       "    </tr>\n",
       "    <tr>\n",
       "      <th>2</th>\n",
       "      <td>A002</td>\n",
       "      <td>R051</td>\n",
       "      <td>02-00-00</td>\n",
       "      <td>[59 ST, LEXINGTON AVE]</td>\n",
       "      <td>[456NQR, 456NQR]</td>\n",
       "      <td>01-05-11</td>\n",
       "      <td>03:00:00</td>\n",
       "      <td>REGULAR</td>\n",
       "      <td>2999713.0</td>\n",
       "      <td>0.0</td>\n",
       "      <td>5999426.0</td>\n",
       "    </tr>\n",
       "    <tr>\n",
       "      <th>3</th>\n",
       "      <td>A002</td>\n",
       "      <td>R051</td>\n",
       "      <td>02-00-00</td>\n",
       "      <td>[59 ST, LEXINGTON AVE]</td>\n",
       "      <td>[456NQR, 456NQR]</td>\n",
       "      <td>01-06-11</td>\n",
       "      <td>11:00:00</td>\n",
       "      <td>REGULAR</td>\n",
       "      <td>3001298.0</td>\n",
       "      <td>0.0</td>\n",
       "      <td>6002596.0</td>\n",
       "    </tr>\n",
       "    <tr>\n",
       "      <th>4</th>\n",
       "      <td>A002</td>\n",
       "      <td>R051</td>\n",
       "      <td>02-00-00</td>\n",
       "      <td>[59 ST, LEXINGTON AVE]</td>\n",
       "      <td>[456NQR, 456NQR]</td>\n",
       "      <td>01-07-11</td>\n",
       "      <td>09:06:44</td>\n",
       "      <td>DOOR</td>\n",
       "      <td>0.0</td>\n",
       "      <td>0.0</td>\n",
       "      <td>0.0</td>\n",
       "    </tr>\n",
       "  </tbody>\n",
       "</table>\n",
       "</div>"
      ],
      "text/plain": [
       "  ControlArea  UNIT       SCP                 STATION          LINENAME  \\\n",
       "0        A002  R051  02-00-00  [59 ST, LEXINGTON AVE]  [456NQR, 456NQR]   \n",
       "1        A002  R051  02-00-00  [59 ST, LEXINGTON AVE]  [456NQR, 456NQR]   \n",
       "2        A002  R051  02-00-00  [59 ST, LEXINGTON AVE]  [456NQR, 456NQR]   \n",
       "3        A002  R051  02-00-00  [59 ST, LEXINGTON AVE]  [456NQR, 456NQR]   \n",
       "4        A002  R051  02-00-00  [59 ST, LEXINGTON AVE]  [456NQR, 456NQR]   \n",
       "\n",
       "       DATE      TIME     DESC    ENTRIES  EXITS  turnstile_busyness  \n",
       "0  01-02-11  11:00:00  REGULAR  2995634.0    0.0           5991268.0  \n",
       "1  01-03-11  19:00:00  REGULAR  2998176.0    0.0           5996352.0  \n",
       "2  01-05-11  03:00:00  REGULAR  2999713.0    0.0           5999426.0  \n",
       "3  01-06-11  11:00:00  REGULAR  3001298.0    0.0           6002596.0  \n",
       "4  01-07-11  09:06:44     DOOR        0.0    0.0                 0.0  "
      ]
     },
     "execution_count": 123,
     "metadata": {},
     "output_type": "execute_result"
    }
   ],
   "source": [
    "old_data.head()"
   ]
  },
  {
   "cell_type": "code",
   "execution_count": 124,
   "metadata": {
    "collapsed": false
   },
   "outputs": [],
   "source": [
    "# change date format in older data\n",
    "old_data['DATE_2'] = old_data.DATE.map(lambda x: remove_bad_date_rows(x))"
   ]
  },
  {
   "cell_type": "code",
   "execution_count": 136,
   "metadata": {
    "collapsed": false
   },
   "outputs": [
    {
     "data": {
      "text/plain": [
       "dtype('O')"
      ]
     },
     "execution_count": 136,
     "metadata": {},
     "output_type": "execute_result"
    }
   ],
   "source": [
    "# drop rows where date isnt well formatted\n",
    "old_data = old_data[old_data.DATE_2!= 'DROP']"
   ]
  },
  {
   "cell_type": "code",
   "execution_count": 138,
   "metadata": {
    "collapsed": false
   },
   "outputs": [],
   "source": [
    "old_data.DATE = old_data.DATE_2"
   ]
  },
  {
   "cell_type": "code",
   "execution_count": 145,
   "metadata": {
    "collapsed": true
   },
   "outputs": [],
   "source": [
    "old_data['MONTH'] = old_data.DATE.map(lambda x: x.month)\n",
    "old_data['YEAR'] = old_data.DATE.map(lambda x: x.year)"
   ]
  },
  {
   "cell_type": "code",
   "execution_count": null,
   "metadata": {
    "collapsed": true
   },
   "outputs": [],
   "source": [
    "old_data.drop('DATE_2',axis=1,inplace=True)"
   ]
  },
  {
   "cell_type": "code",
   "execution_count": 146,
   "metadata": {
    "collapsed": false
   },
   "outputs": [
    {
     "data": {
      "text/html": [
       "<div>\n",
       "<table border=\"1\" class=\"dataframe\">\n",
       "  <thead>\n",
       "    <tr style=\"text-align: right;\">\n",
       "      <th></th>\n",
       "      <th>ControlArea</th>\n",
       "      <th>UNIT</th>\n",
       "      <th>SCP</th>\n",
       "      <th>STATION</th>\n",
       "      <th>LINENAME</th>\n",
       "      <th>DATE</th>\n",
       "      <th>TIME</th>\n",
       "      <th>DESC</th>\n",
       "      <th>ENTRIES</th>\n",
       "      <th>EXITS</th>\n",
       "      <th>turnstile_busyness</th>\n",
       "      <th>MONTH</th>\n",
       "      <th>YEAR</th>\n",
       "    </tr>\n",
       "  </thead>\n",
       "  <tbody>\n",
       "    <tr>\n",
       "      <th>0</th>\n",
       "      <td>A002</td>\n",
       "      <td>R051</td>\n",
       "      <td>02-00-00</td>\n",
       "      <td>[59 ST, LEXINGTON AVE]</td>\n",
       "      <td>[456NQR, 456NQR]</td>\n",
       "      <td>2011-01-02</td>\n",
       "      <td>11:00:00</td>\n",
       "      <td>REGULAR</td>\n",
       "      <td>2995634.0</td>\n",
       "      <td>0.0</td>\n",
       "      <td>5991268.0</td>\n",
       "      <td>1</td>\n",
       "      <td>2011</td>\n",
       "    </tr>\n",
       "    <tr>\n",
       "      <th>1</th>\n",
       "      <td>A002</td>\n",
       "      <td>R051</td>\n",
       "      <td>02-00-00</td>\n",
       "      <td>[59 ST, LEXINGTON AVE]</td>\n",
       "      <td>[456NQR, 456NQR]</td>\n",
       "      <td>2011-01-03</td>\n",
       "      <td>19:00:00</td>\n",
       "      <td>REGULAR</td>\n",
       "      <td>2998176.0</td>\n",
       "      <td>0.0</td>\n",
       "      <td>5996352.0</td>\n",
       "      <td>1</td>\n",
       "      <td>2011</td>\n",
       "    </tr>\n",
       "    <tr>\n",
       "      <th>2</th>\n",
       "      <td>A002</td>\n",
       "      <td>R051</td>\n",
       "      <td>02-00-00</td>\n",
       "      <td>[59 ST, LEXINGTON AVE]</td>\n",
       "      <td>[456NQR, 456NQR]</td>\n",
       "      <td>2011-01-05</td>\n",
       "      <td>03:00:00</td>\n",
       "      <td>REGULAR</td>\n",
       "      <td>2999713.0</td>\n",
       "      <td>0.0</td>\n",
       "      <td>5999426.0</td>\n",
       "      <td>1</td>\n",
       "      <td>2011</td>\n",
       "    </tr>\n",
       "    <tr>\n",
       "      <th>3</th>\n",
       "      <td>A002</td>\n",
       "      <td>R051</td>\n",
       "      <td>02-00-00</td>\n",
       "      <td>[59 ST, LEXINGTON AVE]</td>\n",
       "      <td>[456NQR, 456NQR]</td>\n",
       "      <td>2011-01-06</td>\n",
       "      <td>11:00:00</td>\n",
       "      <td>REGULAR</td>\n",
       "      <td>3001298.0</td>\n",
       "      <td>0.0</td>\n",
       "      <td>6002596.0</td>\n",
       "      <td>1</td>\n",
       "      <td>2011</td>\n",
       "    </tr>\n",
       "    <tr>\n",
       "      <th>4</th>\n",
       "      <td>A002</td>\n",
       "      <td>R051</td>\n",
       "      <td>02-00-00</td>\n",
       "      <td>[59 ST, LEXINGTON AVE]</td>\n",
       "      <td>[456NQR, 456NQR]</td>\n",
       "      <td>2011-01-07</td>\n",
       "      <td>09:06:44</td>\n",
       "      <td>DOOR</td>\n",
       "      <td>0.0</td>\n",
       "      <td>0.0</td>\n",
       "      <td>0.0</td>\n",
       "      <td>1</td>\n",
       "      <td>2011</td>\n",
       "    </tr>\n",
       "  </tbody>\n",
       "</table>\n",
       "</div>"
      ],
      "text/plain": [
       "  ControlArea  UNIT       SCP                 STATION          LINENAME  \\\n",
       "0        A002  R051  02-00-00  [59 ST, LEXINGTON AVE]  [456NQR, 456NQR]   \n",
       "1        A002  R051  02-00-00  [59 ST, LEXINGTON AVE]  [456NQR, 456NQR]   \n",
       "2        A002  R051  02-00-00  [59 ST, LEXINGTON AVE]  [456NQR, 456NQR]   \n",
       "3        A002  R051  02-00-00  [59 ST, LEXINGTON AVE]  [456NQR, 456NQR]   \n",
       "4        A002  R051  02-00-00  [59 ST, LEXINGTON AVE]  [456NQR, 456NQR]   \n",
       "\n",
       "        DATE      TIME     DESC    ENTRIES  EXITS  turnstile_busyness  MONTH  \\\n",
       "0 2011-01-02  11:00:00  REGULAR  2995634.0    0.0           5991268.0      1   \n",
       "1 2011-01-03  19:00:00  REGULAR  2998176.0    0.0           5996352.0      1   \n",
       "2 2011-01-05  03:00:00  REGULAR  2999713.0    0.0           5999426.0      1   \n",
       "3 2011-01-06  11:00:00  REGULAR  3001298.0    0.0           6002596.0      1   \n",
       "4 2011-01-07  09:06:44     DOOR        0.0    0.0                 0.0      1   \n",
       "\n",
       "   YEAR  \n",
       "0  2011  \n",
       "1  2011  \n",
       "2  2011  \n",
       "3  2011  \n",
       "4  2011  "
      ]
     },
     "execution_count": 146,
     "metadata": {},
     "output_type": "execute_result"
    }
   ],
   "source": [
    "old_data.head()"
   ]
  },
  {
   "cell_type": "code",
   "execution_count": 148,
   "metadata": {
    "collapsed": true
   },
   "outputs": [],
   "source": [
    "data = pd.concat([old_data, new_data])"
   ]
  },
  {
   "cell_type": "code",
   "execution_count": 149,
   "metadata": {
    "collapsed": false
   },
   "outputs": [
    {
     "data": {
      "text/plain": [
       "(32791210, 13)"
      ]
     },
     "execution_count": 149,
     "metadata": {},
     "output_type": "execute_result"
    }
   ],
   "source": [
    "data.shape"
   ]
  },
  {
   "cell_type": "code",
   "execution_count": 35,
   "metadata": {
    "collapsed": true
   },
   "outputs": [],
   "source": [
    "# backup data\n",
    "data.to_csv(data_dir + \"combinedData.csv\", encoding='utf-8')"
   ]
  },
  {
   "cell_type": "markdown",
   "metadata": {},
   "source": [
    "### 2) Data Exploration"
   ]
  },
  {
   "cell_type": "markdown",
   "metadata": {},
   "source": [
    "#### 4th of July 2016 - what station was busyest?\n",
    "\n",
    "42nd street Port Authority had the most turnstile activity, followed by 57th st 7th ave, 23rd st, Canal st and 125th street; and, in particular Unit R011 was busyest."
   ]
  },
  {
   "cell_type": "code",
   "execution_count": 27,
   "metadata": {
    "collapsed": true
   },
   "outputs": [],
   "source": [
    "# create datetime object for July4th\n",
    "july4 = datetime.date(year = 2016, month = 7, day=4)"
   ]
  },
  {
   "cell_type": "code",
   "execution_count": 28,
   "metadata": {
    "collapsed": false
   },
   "outputs": [
    {
     "name": "stdout",
     "output_type": "stream",
     "text": [
      "ON 4TH OF JULY 2017, THE BUSYEST STATIONS WERE: \n",
      "\n",
      "STATION\n",
      "42 ST-PORT AUTH    8.514554e+10\n",
      "57 ST-7 AV         8.209046e+10\n",
      "23 ST              7.544203e+10\n",
      "CANAL ST           7.186917e+10\n",
      "125 ST             6.517888e+10\n",
      "Name: turnstile_busyness, dtype: float64\n"
     ]
    }
   ],
   "source": [
    "# 42 ST-PORT AUTH was the busyest around 4th of july 2016\n",
    "print \"ON 4TH OF JULY 2017, THE BUSYEST STATIONS WERE: \" \n",
    "print\n",
    "print new_data[new_data.DATE == '07/04/2016'].groupby('STATION').turnstile_busyness.sum().nlargest(5)"
   ]
  },
  {
   "cell_type": "code",
   "execution_count": 31,
   "metadata": {
    "collapsed": false
   },
   "outputs": [
    {
     "name": "stdout",
     "output_type": "stream",
     "text": [
      "The top station/turnstile busyest was:\n",
      "\n",
      "STATION          UNIT\n",
      "42 ST-PORT AUTH  R011    8.256106e+10\n",
      "Name: turnstile_busyness, dtype: float64\n"
     ]
    }
   ],
   "source": [
    "print \"The top station/turnstile busyest was:\"\n",
    "print \n",
    "print new_data[new_data.DATE == '07/04/2016'].groupby(['STATION','UNIT']).turnstile_busyness.sum().nlargest(1)"
   ]
  },
  {
   "cell_type": "markdown",
   "metadata": {},
   "source": [
    "#### Turnstile busyness by month\n",
    "In order to be able to look at the data on a monthly basis, we need to convert datatypes from strings to dates.\n",
    "From the chart, we can see that activity has increased in the last 3 years, but there are a few months where there are dips in turnstile busyness."
   ]
  },
  {
   "cell_type": "code",
   "execution_count": 32,
   "metadata": {
    "collapsed": true
   },
   "outputs": [],
   "source": [
    "# convert date from string\n",
    "new_data.DATE = new_data.DATE.map(lambda x: datetime.datetime.strptime(x, '%m/%d/%Y'))"
   ]
  },
  {
   "cell_type": "code",
   "execution_count": 33,
   "metadata": {
    "collapsed": true
   },
   "outputs": [],
   "source": [
    "# add month\n",
    "new_data['MONTH'] = new_data.DATE.map(lambda x: x.month)\n",
    "# add year\n",
    "new_data['YEAR'] = new_data.DATE.map(lambda x: x.year)"
   ]
  },
  {
   "cell_type": "code",
   "execution_count": 34,
   "metadata": {
    "collapsed": false
   },
   "outputs": [],
   "source": [
    "# turnstile busyness on any given month\n",
    "turnstile_yearly = pd.DataFrame(new_data.groupby(['YEAR','MONTH'])['turnstile_busyness'].sum())"
   ]
  },
  {
   "cell_type": "code",
   "execution_count": 35,
   "metadata": {
    "collapsed": false
   },
   "outputs": [
    {
     "data": {
      "text/html": [
       "<div>\n",
       "<table border=\"1\" class=\"dataframe\">\n",
       "  <thead>\n",
       "    <tr style=\"text-align: right;\">\n",
       "      <th></th>\n",
       "      <th></th>\n",
       "      <th>turnstile_busyness</th>\n",
       "    </tr>\n",
       "    <tr>\n",
       "      <th>YEAR</th>\n",
       "      <th>MONTH</th>\n",
       "      <th></th>\n",
       "    </tr>\n",
       "  </thead>\n",
       "  <tbody>\n",
       "    <tr>\n",
       "      <th rowspan=\"3\" valign=\"top\">2014</th>\n",
       "      <th>10</th>\n",
       "      <td>1.825587e+13</td>\n",
       "    </tr>\n",
       "    <tr>\n",
       "      <th>11</th>\n",
       "      <td>2.302537e+13</td>\n",
       "    </tr>\n",
       "    <tr>\n",
       "      <th>12</th>\n",
       "      <td>2.904070e+13</td>\n",
       "    </tr>\n",
       "    <tr>\n",
       "      <th rowspan=\"2\" valign=\"top\">2015</th>\n",
       "      <th>1</th>\n",
       "      <td>3.378276e+13</td>\n",
       "    </tr>\n",
       "    <tr>\n",
       "      <th>2</th>\n",
       "      <td>3.226038e+13</td>\n",
       "    </tr>\n",
       "  </tbody>\n",
       "</table>\n",
       "</div>"
      ],
      "text/plain": [
       "            turnstile_busyness\n",
       "YEAR MONTH                    \n",
       "2014 10           1.825587e+13\n",
       "     11           2.302537e+13\n",
       "     12           2.904070e+13\n",
       "2015 1            3.378276e+13\n",
       "     2            3.226038e+13"
      ]
     },
     "execution_count": 35,
     "metadata": {},
     "output_type": "execute_result"
    }
   ],
   "source": [
    "turnstile_yearly.head()"
   ]
  },
  {
   "cell_type": "code",
   "execution_count": 36,
   "metadata": {
    "collapsed": false
   },
   "outputs": [
    {
     "data": {
      "text/plain": [
       "<matplotlib.axes._subplots.AxesSubplot at 0x129e77b10>"
      ]
     },
     "execution_count": 36,
     "metadata": {},
     "output_type": "execute_result"
    },
    {
     "data": {
      "image/png": "[encoded data removed]",
      "text/plain": [
       "<matplotlib.figure.Figure at 0x129e77c10>"
      ]
     },
     "metadata": {},
     "output_type": "display_data"
    }
   ],
   "source": [
    "# plot yearly data for the last 3 years\n",
    "turnstile_yearly.plot(kind = 'bar', figsize = (12,6), title = 'Yearly turnstile busyness')"
   ]
  },
  {
   "cell_type": "markdown",
   "metadata": {},
   "source": [
    "### When are turstiles least active in the last year?\n",
    "\n",
    "If we look at the data from the last 3 years on a monthly basis, turnstile busyness has increased, but there are certainly also dips in the trend. \n",
    "\n",
    "In terms of least activity in the last year,  we can see that Path WTC has the least turnstyle busyness actvitiy, and February was the least busyest month. While June has the least turnstile business, the data collected is not quite complete for June, so we should look at the following month with smallest number of exits and entries. \n",
    "\n",
    "In looking at the stations with turnstile busyness falling in the bottom 5%, we can see that there has been decreasing activity everywhere. These stations have had decreased turnstile entries and exists. In particular, the station with the highest decrease in activty in 2017 was Spring street, followed by other stations that also showed a percentage decrease in usage. \n",
    "Also, there are many stations not operating to full capacity such as:\n",
    "WENTY THIRD ST, PATH WTC, 14TH STREET, FLUSHING AV, NEWARK HM HE,LACKAWANNA,47-50 STS ROCK,CANARSIE-ROCKAW (which showed up several times as having low turnstile activity, and ROOSEVELT ISLND.\n",
    "Furthermore, I sampled a few stations and produced plots of yearly trends by station and noticed that there are many stations that are not used to capacity in comparison with other more popular ones. \n",
    "In terms of least busyest days, there are many days in January which were the least busy, but the day that had the fewest entries and exists was in March."
   ]
  },
  {
   "cell_type": "code",
   "execution_count": 37,
   "metadata": {
    "collapsed": false
   },
   "outputs": [
    {
     "data": {
      "image/png": "[encoded data removed]",
      "text/plain": [
       "<matplotlib.figure.Figure at 0x16b7e2290>"
      ]
     },
     "metadata": {},
     "output_type": "display_data"
    }
   ],
   "source": [
    "# in looking at the last 3 years turnstile busyness has been pretty consistent\n",
    "fig, ax = plt.subplots(ncols=1, nrows=1, figsize = (10,6))\n",
    "pd.DataFrame(new_data.groupby(['YEAR','MONTH'])['turnstile_busyness'].sum()).plot(kind = 'bar', cmap='cool', ax=ax,\n",
    "title='Turnstile Busyness in the last 3 years')\n",
    "plt.show()"
   ]
  },
  {
   "cell_type": "code",
   "execution_count": 38,
   "metadata": {
    "collapsed": true
   },
   "outputs": [],
   "source": [
    "# 2017 data only\n",
    "dat2017 = new_data[new_data.YEAR ==2017]"
   ]
  },
  {
   "cell_type": "code",
   "execution_count": 39,
   "metadata": {
    "collapsed": false
   },
   "outputs": [
    {
     "data": {
      "text/html": [
       "<div>\n",
       "<table border=\"1\" class=\"dataframe\">\n",
       "  <thead>\n",
       "    <tr style=\"text-align: right;\">\n",
       "      <th></th>\n",
       "      <th>ControlArea</th>\n",
       "      <th>UNIT</th>\n",
       "      <th>SCP</th>\n",
       "      <th>STATION</th>\n",
       "      <th>LINENAME</th>\n",
       "      <th>DATE</th>\n",
       "      <th>TIME</th>\n",
       "      <th>DESC</th>\n",
       "      <th>ENTRIES</th>\n",
       "      <th>EXITS</th>\n",
       "      <th>turnstile_busyness</th>\n",
       "      <th>MONTH</th>\n",
       "      <th>YEAR</th>\n",
       "    </tr>\n",
       "  </thead>\n",
       "  <tbody>\n",
       "    <tr>\n",
       "      <th>22165214</th>\n",
       "      <td>A002</td>\n",
       "      <td>R051</td>\n",
       "      <td>02-00-00</td>\n",
       "      <td>59 ST</td>\n",
       "      <td>NQR456W</td>\n",
       "      <td>2017-01-01</td>\n",
       "      <td>03:00:00</td>\n",
       "      <td>REGULAR</td>\n",
       "      <td>5992718.0</td>\n",
       "      <td>2028585.0</td>\n",
       "      <td>8021303.0</td>\n",
       "      <td>1</td>\n",
       "      <td>2017</td>\n",
       "    </tr>\n",
       "    <tr>\n",
       "      <th>22165215</th>\n",
       "      <td>A002</td>\n",
       "      <td>R051</td>\n",
       "      <td>02-00-00</td>\n",
       "      <td>59 ST</td>\n",
       "      <td>NQR456W</td>\n",
       "      <td>2017-01-01</td>\n",
       "      <td>07:00:00</td>\n",
       "      <td>REGULAR</td>\n",
       "      <td>5992730.0</td>\n",
       "      <td>2028594.0</td>\n",
       "      <td>8021324.0</td>\n",
       "      <td>1</td>\n",
       "      <td>2017</td>\n",
       "    </tr>\n",
       "    <tr>\n",
       "      <th>22165216</th>\n",
       "      <td>A002</td>\n",
       "      <td>R051</td>\n",
       "      <td>02-00-00</td>\n",
       "      <td>59 ST</td>\n",
       "      <td>NQR456W</td>\n",
       "      <td>2017-01-01</td>\n",
       "      <td>11:00:00</td>\n",
       "      <td>REGULAR</td>\n",
       "      <td>5992776.0</td>\n",
       "      <td>2028636.0</td>\n",
       "      <td>8021412.0</td>\n",
       "      <td>1</td>\n",
       "      <td>2017</td>\n",
       "    </tr>\n",
       "    <tr>\n",
       "      <th>22165217</th>\n",
       "      <td>A002</td>\n",
       "      <td>R051</td>\n",
       "      <td>02-00-00</td>\n",
       "      <td>59 ST</td>\n",
       "      <td>NQR456W</td>\n",
       "      <td>2017-01-01</td>\n",
       "      <td>15:00:00</td>\n",
       "      <td>REGULAR</td>\n",
       "      <td>5992980.0</td>\n",
       "      <td>2028680.0</td>\n",
       "      <td>8021660.0</td>\n",
       "      <td>1</td>\n",
       "      <td>2017</td>\n",
       "    </tr>\n",
       "    <tr>\n",
       "      <th>22165218</th>\n",
       "      <td>A002</td>\n",
       "      <td>R051</td>\n",
       "      <td>02-00-00</td>\n",
       "      <td>59 ST</td>\n",
       "      <td>NQR456W</td>\n",
       "      <td>2017-01-01</td>\n",
       "      <td>19:00:00</td>\n",
       "      <td>REGULAR</td>\n",
       "      <td>5993301.0</td>\n",
       "      <td>2028728.0</td>\n",
       "      <td>8022029.0</td>\n",
       "      <td>1</td>\n",
       "      <td>2017</td>\n",
       "    </tr>\n",
       "  </tbody>\n",
       "</table>\n",
       "</div>"
      ],
      "text/plain": [
       "         ControlArea  UNIT       SCP STATION LINENAME       DATE      TIME  \\\n",
       "22165214        A002  R051  02-00-00   59 ST  NQR456W 2017-01-01  03:00:00   \n",
       "22165215        A002  R051  02-00-00   59 ST  NQR456W 2017-01-01  07:00:00   \n",
       "22165216        A002  R051  02-00-00   59 ST  NQR456W 2017-01-01  11:00:00   \n",
       "22165217        A002  R051  02-00-00   59 ST  NQR456W 2017-01-01  15:00:00   \n",
       "22165218        A002  R051  02-00-00   59 ST  NQR456W 2017-01-01  19:00:00   \n",
       "\n",
       "             DESC    ENTRIES      EXITS  turnstile_busyness  MONTH  YEAR  \n",
       "22165214  REGULAR  5992718.0  2028585.0           8021303.0      1  2017  \n",
       "22165215  REGULAR  5992730.0  2028594.0           8021324.0      1  2017  \n",
       "22165216  REGULAR  5992776.0  2028636.0           8021412.0      1  2017  \n",
       "22165217  REGULAR  5992980.0  2028680.0           8021660.0      1  2017  \n",
       "22165218  REGULAR  5993301.0  2028728.0           8022029.0      1  2017  "
      ]
     },
     "execution_count": 39,
     "metadata": {},
     "output_type": "execute_result"
    }
   ],
   "source": [
    "dat2017.head()"
   ]
  },
  {
   "cell_type": "code",
   "execution_count": 40,
   "metadata": {
    "collapsed": false
   },
   "outputs": [
    {
     "name": "stderr",
     "output_type": "stream",
     "text": [
      "/usr/local/lib/python2.7/site-packages/ipykernel/__main__.py:2: SettingWithCopyWarning: \n",
      "A value is trying to be set on a copy of a slice from a DataFrame.\n",
      "Try using .loc[row_indexer,col_indexer] = value instead\n",
      "\n",
      "See the caveats in the documentation: http://pandas.pydata.org/pandas-docs/stable/indexing.html#indexing-view-versus-copy\n",
      "  from ipykernel import kernelapp as app\n"
     ]
    }
   ],
   "source": [
    "# add weekly period\n",
    "dat2017['WEEK'] = dat2017.DATE.dt.to_period('W')"
   ]
  },
  {
   "cell_type": "code",
   "execution_count": 41,
   "metadata": {
    "collapsed": false
   },
   "outputs": [
    {
     "data": {
      "text/plain": [
       "<matplotlib.text.Text at 0x1076ef750>"
      ]
     },
     "execution_count": 41,
     "metadata": {},
     "output_type": "execute_result"
    },
    {
     "data": {
      "image/png": "[encoded data removed]",
      "text/plain": [
       "<matplotlib.figure.Figure at 0x179d50790>"
      ]
     },
     "metadata": {},
     "output_type": "display_data"
    }
   ],
   "source": [
    "# we can see that path WTC has the least turnstile activity  \n",
    "fig, ax = plt.subplots(figsize = (10,8))\n",
    "dat2017.groupby(['STATION']).turnstile_busyness.sum().nsmallest(25).plot(kind = 'bar',ax=ax)\n",
    "labels = [item.get_text() for item in ax.get_xticklabels()]\n",
    "ax.set_xticklabels(labels, rotation = 45)\n",
    "ax.set_title('Stations with least activity in 2017')"
   ]
  },
  {
   "cell_type": "code",
   "execution_count": 42,
   "metadata": {
    "collapsed": true
   },
   "outputs": [],
   "source": [
    "# what stations have less than 5% of overall turnstile busyness activity?\n",
    "low_q = dat2017.turnstile_busyness.quantile(.05)\n",
    "\n",
    "# when are turnstile the least busy?\n",
    "noactivity = dat2017[dat2017.turnstile_busyness<low_q]"
   ]
  },
  {
   "cell_type": "code",
   "execution_count": 53,
   "metadata": {
    "collapsed": true
   },
   "outputs": [],
   "source": [
    "# group data with least activity by station and month\n",
    "month_dat = noactivity.groupby(['STATION','WEEK']).turnstile_busyness.sum().reset_index()"
   ]
  },
  {
   "cell_type": "code",
   "execution_count": 60,
   "metadata": {
    "collapsed": false
   },
   "outputs": [],
   "source": [
    "# monthly activity by station\n",
    "month_dat.sort_values('turnstile_busyness' , ascending=True, inplace=True)"
   ]
  },
  {
   "cell_type": "code",
   "execution_count": 61,
   "metadata": {
    "collapsed": false
   },
   "outputs": [
    {
     "data": {
      "text/html": [
       "<div>\n",
       "<table border=\"1\" class=\"dataframe\">\n",
       "  <thead>\n",
       "    <tr style=\"text-align: right;\">\n",
       "      <th></th>\n",
       "      <th>STATION</th>\n",
       "      <th>WEEK</th>\n",
       "      <th>turnstile_busyness</th>\n",
       "    </tr>\n",
       "  </thead>\n",
       "  <tbody>\n",
       "    <tr>\n",
       "      <th>3155</th>\n",
       "      <td>TWENTY THIRD ST</td>\n",
       "      <td>2017-03-20/2017-03-26</td>\n",
       "      <td>0.0</td>\n",
       "    </tr>\n",
       "    <tr>\n",
       "      <th>2708</th>\n",
       "      <td>PATH WTC</td>\n",
       "      <td>2017-05-15/2017-05-21</td>\n",
       "      <td>2.0</td>\n",
       "    </tr>\n",
       "    <tr>\n",
       "      <th>128</th>\n",
       "      <td>14TH STREET</td>\n",
       "      <td>2017-06-05/2017-06-11</td>\n",
       "      <td>3.0</td>\n",
       "    </tr>\n",
       "    <tr>\n",
       "      <th>1821</th>\n",
       "      <td>FLUSHING AV</td>\n",
       "      <td>2017-06-19/2017-06-25</td>\n",
       "      <td>18.0</td>\n",
       "    </tr>\n",
       "    <tr>\n",
       "      <th>2562</th>\n",
       "      <td>NEWARK HM HE</td>\n",
       "      <td>2017-01-23/2017-01-29</td>\n",
       "      <td>18.0</td>\n",
       "    </tr>\n",
       "    <tr>\n",
       "      <th>2301</th>\n",
       "      <td>LACKAWANNA</td>\n",
       "      <td>2017-05-22/2017-05-28</td>\n",
       "      <td>44.0</td>\n",
       "    </tr>\n",
       "    <tr>\n",
       "      <th>530</th>\n",
       "      <td>47-50 STS ROCK</td>\n",
       "      <td>2017-06-05/2017-06-11</td>\n",
       "      <td>50.0</td>\n",
       "    </tr>\n",
       "    <tr>\n",
       "      <th>1401</th>\n",
       "      <td>CANARSIE-ROCKAW</td>\n",
       "      <td>2017-05-08/2017-05-14</td>\n",
       "      <td>50.0</td>\n",
       "    </tr>\n",
       "    <tr>\n",
       "      <th>2849</th>\n",
       "      <td>ROOSEVELT ISLND</td>\n",
       "      <td>2016-12-26/2017-01-01</td>\n",
       "      <td>84.0</td>\n",
       "    </tr>\n",
       "    <tr>\n",
       "      <th>1404</th>\n",
       "      <td>CANARSIE-ROCKAW</td>\n",
       "      <td>2017-05-29/2017-06-04</td>\n",
       "      <td>84.0</td>\n",
       "    </tr>\n",
       "    <tr>\n",
       "      <th>1402</th>\n",
       "      <td>CANARSIE-ROCKAW</td>\n",
       "      <td>2017-05-15/2017-05-21</td>\n",
       "      <td>84.0</td>\n",
       "    </tr>\n",
       "    <tr>\n",
       "      <th>1403</th>\n",
       "      <td>CANARSIE-ROCKAW</td>\n",
       "      <td>2017-05-22/2017-05-28</td>\n",
       "      <td>94.0</td>\n",
       "    </tr>\n",
       "    <tr>\n",
       "      <th>5</th>\n",
       "      <td>104 ST</td>\n",
       "      <td>2017-01-09/2017-01-15</td>\n",
       "      <td>110.0</td>\n",
       "    </tr>\n",
       "    <tr>\n",
       "      <th>2567</th>\n",
       "      <td>NEWARK HW BMEBE</td>\n",
       "      <td>2016-12-26/2017-01-01</td>\n",
       "      <td>139.0</td>\n",
       "    </tr>\n",
       "    <tr>\n",
       "      <th>1405</th>\n",
       "      <td>CANARSIE-ROCKAW</td>\n",
       "      <td>2017-06-05/2017-06-11</td>\n",
       "      <td>157.0</td>\n",
       "    </tr>\n",
       "  </tbody>\n",
       "</table>\n",
       "</div>"
      ],
      "text/plain": [
       "              STATION                  WEEK  turnstile_busyness\n",
       "3155  TWENTY THIRD ST 2017-03-20/2017-03-26                 0.0\n",
       "2708         PATH WTC 2017-05-15/2017-05-21                 2.0\n",
       "128       14TH STREET 2017-06-05/2017-06-11                 3.0\n",
       "1821      FLUSHING AV 2017-06-19/2017-06-25                18.0\n",
       "2562     NEWARK HM HE 2017-01-23/2017-01-29                18.0\n",
       "2301       LACKAWANNA 2017-05-22/2017-05-28                44.0\n",
       "530    47-50 STS ROCK 2017-06-05/2017-06-11                50.0\n",
       "1401  CANARSIE-ROCKAW 2017-05-08/2017-05-14                50.0\n",
       "2849  ROOSEVELT ISLND 2016-12-26/2017-01-01                84.0\n",
       "1404  CANARSIE-ROCKAW 2017-05-29/2017-06-04                84.0\n",
       "1402  CANARSIE-ROCKAW 2017-05-15/2017-05-21                84.0\n",
       "1403  CANARSIE-ROCKAW 2017-05-22/2017-05-28                94.0\n",
       "5              104 ST 2017-01-09/2017-01-15               110.0\n",
       "2567  NEWARK HW BMEBE 2016-12-26/2017-01-01               139.0\n",
       "1405  CANARSIE-ROCKAW 2017-06-05/2017-06-11               157.0"
      ]
     },
     "execution_count": 61,
     "metadata": {},
     "output_type": "execute_result"
    }
   ],
   "source": [
    "# it looks like there are many stations not operating to full capacity\n",
    "month_dat.head(15)"
   ]
  },
  {
   "cell_type": "code",
   "execution_count": 56,
   "metadata": {
    "collapsed": false
   },
   "outputs": [],
   "source": [
    "station_dat = noactivity.groupby(['STATION', 'MONTH']).turnstile_busyness.sum()"
   ]
  },
  {
   "cell_type": "code",
   "execution_count": 62,
   "metadata": {
    "collapsed": false
   },
   "outputs": [],
   "source": [
    "# calculate percent changes\n",
    "pct_changes = station_dat.pct_change().reset_index()\n",
    "# remove missing values\n",
    "pct_changes = pct_changes.dropna()"
   ]
  },
  {
   "cell_type": "code",
   "execution_count": 64,
   "metadata": {
    "collapsed": false
   },
   "outputs": [
    {
     "data": {
      "text/html": [
       "<div>\n",
       "<table border=\"1\" class=\"dataframe\">\n",
       "  <thead>\n",
       "    <tr style=\"text-align: right;\">\n",
       "      <th></th>\n",
       "      <th>STATION</th>\n",
       "      <th>MONTH</th>\n",
       "      <th>turnstile_busyness</th>\n",
       "    </tr>\n",
       "  </thead>\n",
       "  <tbody>\n",
       "    <tr>\n",
       "      <th>807</th>\n",
       "      <td>TWENTY THIRD ST</td>\n",
       "      <td>3</td>\n",
       "      <td>-1.000000</td>\n",
       "    </tr>\n",
       "    <tr>\n",
       "      <th>693</th>\n",
       "      <td>PATH WTC</td>\n",
       "      <td>5</td>\n",
       "      <td>-0.999840</td>\n",
       "    </tr>\n",
       "    <tr>\n",
       "      <th>452</th>\n",
       "      <td>FLUSHING AV</td>\n",
       "      <td>6</td>\n",
       "      <td>-0.999538</td>\n",
       "    </tr>\n",
       "    <tr>\n",
       "      <th>347</th>\n",
       "      <td>CANARSIE-ROCKAW</td>\n",
       "      <td>5</td>\n",
       "      <td>-0.999101</td>\n",
       "    </tr>\n",
       "    <tr>\n",
       "      <th>648</th>\n",
       "      <td>NEWARK C</td>\n",
       "      <td>4</td>\n",
       "      <td>-0.996623</td>\n",
       "    </tr>\n",
       "  </tbody>\n",
       "</table>\n",
       "</div>"
      ],
      "text/plain": [
       "             STATION  MONTH  turnstile_busyness\n",
       "807  TWENTY THIRD ST      3           -1.000000\n",
       "693         PATH WTC      5           -0.999840\n",
       "452      FLUSHING AV      6           -0.999538\n",
       "347  CANARSIE-ROCKAW      5           -0.999101\n",
       "648         NEWARK C      4           -0.996623"
      ]
     },
     "execution_count": 64,
     "metadata": {},
     "output_type": "execute_result"
    }
   ],
   "source": [
    "pct_changes.sort_values('turnstile_busyness').head()"
   ]
  },
  {
   "cell_type": "code",
   "execution_count": 65,
   "metadata": {
    "collapsed": false
   },
   "outputs": [
    {
     "data": {
      "text/plain": [
       "<matplotlib.axes._subplots.AxesSubplot at 0x10e95d710>"
      ]
     },
     "execution_count": 65,
     "metadata": {},
     "output_type": "execute_result"
    },
    {
     "data": {
      "image/png": "[encoded data removed]",
      "text/plain": [
       "<matplotlib.figure.Figure at 0x10e97ef50>"
      ]
     },
     "metadata": {},
     "output_type": "display_data"
    }
   ],
   "source": [
    "# we can see the stations with largest decrease in turnstile busyness\n",
    "pct_changes.groupby('STATION').turnstile_busyness.sum().nsmallest(5).reset_index().plot(x='STATION', y = 'turnstile_busyness')"
   ]
  },
  {
   "cell_type": "code",
   "execution_count": 66,
   "metadata": {
    "collapsed": false
   },
   "outputs": [],
   "source": [
    "pct_changes_totals = pct_changes.groupby('STATION').turnstile_busyness.sum().reset_index()"
   ]
  },
  {
   "cell_type": "code",
   "execution_count": 67,
   "metadata": {
    "collapsed": false
   },
   "outputs": [],
   "source": [
    "# sample some stations with lowest activity and plot their trends to see fluctuations\n",
    "sample_stations = pct_changes_totals.sort_values('turnstile_busyness',ascending = True).STATION.iloc[0:10].values.tolist()"
   ]
  },
  {
   "cell_type": "code",
   "execution_count": 68,
   "metadata": {
    "collapsed": false
   },
   "outputs": [
    {
     "data": {
      "text/plain": [
       "[u'SPRING ST',\n",
       " u'WHITEHALL S-FRY',\n",
       " u'PATH WTC',\n",
       " u'FLUSHING AV',\n",
       " u'W 4 ST-WASH SQ',\n",
       " u'SUTTER AV',\n",
       " u'CRESCENT ST',\n",
       " u'GRAND-NEWTOWN',\n",
       " u'45 ST',\n",
       " u'ROCKAWAY PARK B']"
      ]
     },
     "execution_count": 68,
     "metadata": {},
     "output_type": "execute_result"
    }
   ],
   "source": [
    "sample_stations"
   ]
  },
  {
   "cell_type": "code",
   "execution_count": 70,
   "metadata": {
    "collapsed": false
   },
   "outputs": [
    {
     "data": {
      "image/png": "[encoded data removed]",
      "text/plain": [
       "<matplotlib.figure.Figure at 0x12ede2910>"
      ]
     },
     "metadata": {},
     "output_type": "display_data"
    },
    {
     "data": {
      "image/png": "[encoded data removed]",
      "text/plain": [
       "<matplotlib.figure.Figure at 0x10ea20e50>"
      ]
     },
     "metadata": {},
     "output_type": "display_data"
    }
   ],
   "source": [
    "fig, axes = plt.subplots(nrows =1, ncols=4, figsize = (16,6), sharex=True, sharey=True)\n",
    "fig.subplots_adjust(hspace=.8, wspace=.5)\n",
    "for idx, s in enumerate(sample_stations[0:4]):\n",
    "    station_dat = new_data[new_data.STATION ==s].groupby(['MONTH'])\n",
    "    station_dat = station_dat['turnstile_busyness'].sum()\n",
    "    plt_s = station_dat.plot(kind = 'bar', subplots=False, stacked = True, legend=None, color ='coral',\n",
    "                             title = s, ax = axes[idx] )\n",
    "\n",
    "    labels = [item.get_text() for item in axes[idx].get_xticklabels()]\n",
    "    axes[idx].set_xticklabels(labels, rotation = 0)\n",
    "    axes[idx].set_xlabel(\"\")\n",
    "plt.show()\n",
    "\n",
    "fig, axes = plt.subplots(nrows =1, ncols=4, figsize = (16,6), sharex=True, sharey=True)\n",
    "fig.subplots_adjust(hspace=.8, wspace=.75)\n",
    "for idx, s in enumerate(sample_stations[4:8]):\n",
    "    station_dat = new_data[new_data.STATION ==s].groupby(['MONTH'])\n",
    "    station_dat = station_dat['turnstile_busyness'].sum()\n",
    "    plt_s = station_dat.plot(kind = 'bar', subplots=False, stacked = True, legend=None, color ='coral',\n",
    "                             title = s , ax = axes[idx] )\n",
    "\n",
    "    labels = [item.get_text() for item in axes[idx].get_xticklabels()]\n",
    "    axes[idx].set_xticklabels(labels, rotation = 0)\n",
    "    axes[idx].set_xlabel(\"\")\n",
    "plt.show()"
   ]
  },
  {
   "cell_type": "markdown",
   "metadata": {},
   "source": [
    "## 3) Linear Regression Model\n",
    "\n",
    "For predicting the number of exits, I used linear regression. I used a training set of 90% and 10% test, and the linear model performed quite well, scoring 90%. Initially I ran linear regression only on the \"new\" data because operating on the entire dataset took wuite a lot of time and I wanted to see how good or bad the results would be. The model does not improve much because I added more data points and not more features. Unfortunately in this situation we do not have a large set of features to chose from and predicting the number of exits is more or less based on the control area, the time, date, and mostly only number of entries. Both models - the one on only new data and the one on the entire data  perform quite well, but I do think it could do better if we added more features."
   ]
  },
  {
   "cell_type": "code",
   "execution_count": 74,
   "metadata": {
    "collapsed": true
   },
   "outputs": [],
   "source": [
    "smaller_data = new_data.copy()"
   ]
  },
  {
   "cell_type": "code",
   "execution_count": 75,
   "metadata": {
    "collapsed": false
   },
   "outputs": [
    {
     "data": {
      "text/plain": [
       "0           2014\n",
       "1868551     2015\n",
       "11897434    2016\n",
       "22165214    2017\n",
       "Name: YEAR, dtype: int64"
      ]
     },
     "execution_count": 75,
     "metadata": {},
     "output_type": "execute_result"
    }
   ],
   "source": [
    "smaller_data.YEAR.drop_duplicates()"
   ]
  },
  {
   "cell_type": "code",
   "execution_count": 76,
   "metadata": {
    "collapsed": false
   },
   "outputs": [
    {
     "data": {
      "text/html": [
       "<div>\n",
       "<table border=\"1\" class=\"dataframe\">\n",
       "  <thead>\n",
       "    <tr style=\"text-align: right;\">\n",
       "      <th></th>\n",
       "      <th>ControlArea</th>\n",
       "      <th>UNIT</th>\n",
       "      <th>SCP</th>\n",
       "      <th>STATION</th>\n",
       "      <th>LINENAME</th>\n",
       "      <th>DATE</th>\n",
       "      <th>TIME</th>\n",
       "      <th>DESC</th>\n",
       "      <th>ENTRIES</th>\n",
       "      <th>EXITS</th>\n",
       "      <th>turnstile_busyness</th>\n",
       "      <th>MONTH</th>\n",
       "      <th>YEAR</th>\n",
       "    </tr>\n",
       "  </thead>\n",
       "  <tbody>\n",
       "    <tr>\n",
       "      <th>0</th>\n",
       "      <td>A060</td>\n",
       "      <td>R001</td>\n",
       "      <td>00-00-00</td>\n",
       "      <td>WHITEHALL ST</td>\n",
       "      <td>R1</td>\n",
       "      <td>2014-10-11</td>\n",
       "      <td>01:00:00</td>\n",
       "      <td>REGULAR</td>\n",
       "      <td>805439.0</td>\n",
       "      <td>1141080.0</td>\n",
       "      <td>1946519.0</td>\n",
       "      <td>10</td>\n",
       "      <td>2014</td>\n",
       "    </tr>\n",
       "    <tr>\n",
       "      <th>1</th>\n",
       "      <td>A060</td>\n",
       "      <td>R001</td>\n",
       "      <td>00-00-00</td>\n",
       "      <td>WHITEHALL ST</td>\n",
       "      <td>R1</td>\n",
       "      <td>2014-10-11</td>\n",
       "      <td>05:00:00</td>\n",
       "      <td>REGULAR</td>\n",
       "      <td>805459.0</td>\n",
       "      <td>1141141.0</td>\n",
       "      <td>1946600.0</td>\n",
       "      <td>10</td>\n",
       "      <td>2014</td>\n",
       "    </tr>\n",
       "    <tr>\n",
       "      <th>2</th>\n",
       "      <td>A060</td>\n",
       "      <td>R001</td>\n",
       "      <td>00-00-00</td>\n",
       "      <td>WHITEHALL ST</td>\n",
       "      <td>R1</td>\n",
       "      <td>2014-10-11</td>\n",
       "      <td>09:00:00</td>\n",
       "      <td>REGULAR</td>\n",
       "      <td>805589.0</td>\n",
       "      <td>1141257.0</td>\n",
       "      <td>1946846.0</td>\n",
       "      <td>10</td>\n",
       "      <td>2014</td>\n",
       "    </tr>\n",
       "    <tr>\n",
       "      <th>3</th>\n",
       "      <td>A060</td>\n",
       "      <td>R001</td>\n",
       "      <td>00-00-00</td>\n",
       "      <td>WHITEHALL ST</td>\n",
       "      <td>R1</td>\n",
       "      <td>2014-10-11</td>\n",
       "      <td>13:00:00</td>\n",
       "      <td>REGULAR</td>\n",
       "      <td>805834.0</td>\n",
       "      <td>1141512.0</td>\n",
       "      <td>1947346.0</td>\n",
       "      <td>10</td>\n",
       "      <td>2014</td>\n",
       "    </tr>\n",
       "    <tr>\n",
       "      <th>4</th>\n",
       "      <td>A060</td>\n",
       "      <td>R001</td>\n",
       "      <td>00-00-00</td>\n",
       "      <td>WHITEHALL ST</td>\n",
       "      <td>R1</td>\n",
       "      <td>2014-10-11</td>\n",
       "      <td>17:00:00</td>\n",
       "      <td>REGULAR</td>\n",
       "      <td>806150.0</td>\n",
       "      <td>1141903.0</td>\n",
       "      <td>1948053.0</td>\n",
       "      <td>10</td>\n",
       "      <td>2014</td>\n",
       "    </tr>\n",
       "  </tbody>\n",
       "</table>\n",
       "</div>"
      ],
      "text/plain": [
       "  ControlArea  UNIT       SCP       STATION LINENAME       DATE      TIME  \\\n",
       "0        A060  R001  00-00-00  WHITEHALL ST       R1 2014-10-11  01:00:00   \n",
       "1        A060  R001  00-00-00  WHITEHALL ST       R1 2014-10-11  05:00:00   \n",
       "2        A060  R001  00-00-00  WHITEHALL ST       R1 2014-10-11  09:00:00   \n",
       "3        A060  R001  00-00-00  WHITEHALL ST       R1 2014-10-11  13:00:00   \n",
       "4        A060  R001  00-00-00  WHITEHALL ST       R1 2014-10-11  17:00:00   \n",
       "\n",
       "      DESC   ENTRIES      EXITS  turnstile_busyness  MONTH  YEAR  \n",
       "0  REGULAR  805439.0  1141080.0           1946519.0     10  2014  \n",
       "1  REGULAR  805459.0  1141141.0           1946600.0     10  2014  \n",
       "2  REGULAR  805589.0  1141257.0           1946846.0     10  2014  \n",
       "3  REGULAR  805834.0  1141512.0           1947346.0     10  2014  \n",
       "4  REGULAR  806150.0  1141903.0           1948053.0     10  2014  "
      ]
     },
     "execution_count": 76,
     "metadata": {},
     "output_type": "execute_result"
    }
   ],
   "source": [
    "smaller_data.head()"
   ]
  },
  {
   "cell_type": "code",
   "execution_count": 77,
   "metadata": {
    "collapsed": false
   },
   "outputs": [
    {
     "name": "stdout",
     "output_type": "stream",
     "text": [
      "standard deviation 167360057.073\n",
      "variance 2.80093887036e+16\n"
     ]
    }
   ],
   "source": [
    "# we can see that there s a large differnce in exits \n",
    "print \"standard deviation\" , smaller_data.EXITS.std()\n",
    "print \"variance\" , smaller_data.EXITS.var()"
   ]
  },
  {
   "cell_type": "code",
   "execution_count": 78,
   "metadata": {
    "collapsed": false
   },
   "outputs": [
    {
     "data": {
      "text/html": [
       "<div>\n",
       "<table border=\"1\" class=\"dataframe\">\n",
       "  <thead>\n",
       "    <tr style=\"text-align: right;\">\n",
       "      <th></th>\n",
       "      <th>ENTRIES</th>\n",
       "      <th>EXITS</th>\n",
       "      <th>turnstile_busyness</th>\n",
       "      <th>MONTH</th>\n",
       "      <th>YEAR</th>\n",
       "    </tr>\n",
       "  </thead>\n",
       "  <tbody>\n",
       "    <tr>\n",
       "      <th>count</th>\n",
       "      <td>2.205366e+07</td>\n",
       "      <td>2.205366e+07</td>\n",
       "      <td>2.205366e+07</td>\n",
       "      <td>2.205366e+07</td>\n",
       "      <td>2.205366e+07</td>\n",
       "    </tr>\n",
       "    <tr>\n",
       "      <th>mean</th>\n",
       "      <td>3.465465e+06</td>\n",
       "      <td>2.746889e+06</td>\n",
       "      <td>6.212354e+06</td>\n",
       "      <td>6.299352e+00</td>\n",
       "      <td>2.015651e+03</td>\n",
       "    </tr>\n",
       "    <tr>\n",
       "      <th>std</th>\n",
       "      <td>3.354473e+06</td>\n",
       "      <td>3.160333e+06</td>\n",
       "      <td>5.850202e+06</td>\n",
       "      <td>3.565592e+00</td>\n",
       "      <td>8.574729e-01</td>\n",
       "    </tr>\n",
       "    <tr>\n",
       "      <th>min</th>\n",
       "      <td>5.064000e+03</td>\n",
       "      <td>7.300000e+01</td>\n",
       "      <td>5.164000e+03</td>\n",
       "      <td>1.000000e+00</td>\n",
       "      <td>2.014000e+03</td>\n",
       "    </tr>\n",
       "    <tr>\n",
       "      <th>25%</th>\n",
       "      <td>7.291550e+05</td>\n",
       "      <td>4.350010e+05</td>\n",
       "      <td>1.426559e+06</td>\n",
       "      <td>3.000000e+00</td>\n",
       "      <td>2.015000e+03</td>\n",
       "    </tr>\n",
       "    <tr>\n",
       "      <th>50%</th>\n",
       "      <td>2.407230e+06</td>\n",
       "      <td>1.532322e+06</td>\n",
       "      <td>4.451706e+06</td>\n",
       "      <td>6.000000e+00</td>\n",
       "      <td>2.016000e+03</td>\n",
       "    </tr>\n",
       "    <tr>\n",
       "      <th>75%</th>\n",
       "      <td>5.231680e+06</td>\n",
       "      <td>3.988440e+06</td>\n",
       "      <td>9.478791e+06</td>\n",
       "      <td>1.000000e+01</td>\n",
       "      <td>2.016000e+03</td>\n",
       "    </tr>\n",
       "    <tr>\n",
       "      <th>max</th>\n",
       "      <td>1.464520e+07</td>\n",
       "      <td>1.682097e+07</td>\n",
       "      <td>3.130366e+07</td>\n",
       "      <td>1.200000e+01</td>\n",
       "      <td>2.017000e+03</td>\n",
       "    </tr>\n",
       "  </tbody>\n",
       "</table>\n",
       "</div>"
      ],
      "text/plain": [
       "            ENTRIES         EXITS  turnstile_busyness         MONTH  \\\n",
       "count  2.205366e+07  2.205366e+07        2.205366e+07  2.205366e+07   \n",
       "mean   3.465465e+06  2.746889e+06        6.212354e+06  6.299352e+00   \n",
       "std    3.354473e+06  3.160333e+06        5.850202e+06  3.565592e+00   \n",
       "min    5.064000e+03  7.300000e+01        5.164000e+03  1.000000e+00   \n",
       "25%    7.291550e+05  4.350010e+05        1.426559e+06  3.000000e+00   \n",
       "50%    2.407230e+06  1.532322e+06        4.451706e+06  6.000000e+00   \n",
       "75%    5.231680e+06  3.988440e+06        9.478791e+06  1.000000e+01   \n",
       "max    1.464520e+07  1.682097e+07        3.130366e+07  1.200000e+01   \n",
       "\n",
       "               YEAR  \n",
       "count  2.205366e+07  \n",
       "mean   2.015651e+03  \n",
       "std    8.574729e-01  \n",
       "min    2.014000e+03  \n",
       "25%    2.015000e+03  \n",
       "50%    2.016000e+03  \n",
       "75%    2.016000e+03  \n",
       "max    2.017000e+03  "
      ]
     },
     "execution_count": 78,
     "metadata": {},
     "output_type": "execute_result"
    }
   ],
   "source": [
    "# remove outliers in 5% and 95% quantiles\n",
    "smaller_data = smaller_data[smaller_data.EXITS < smaller_data.EXITS.quantile(.95)]\n",
    "smaller_data = smaller_data[smaller_data.EXITS > smaller_data.EXITS.quantile(.05)]\n",
    "smaller_data = smaller_data[smaller_data.ENTRIES < smaller_data.ENTRIES.quantile(.95)]\n",
    "smaller_data = smaller_data[smaller_data.ENTRIES > smaller_data.ENTRIES.quantile(.05)]\n",
    "smaller_data.describe()"
   ]
  },
  {
   "cell_type": "code",
   "execution_count": 79,
   "metadata": {
    "collapsed": true
   },
   "outputs": [],
   "source": [
    "# group by turnstile and station for model\n",
    "model_data = smaller_data.groupby(['UNIT','STATION','LINENAME'])[['ENTRIES','EXITS']].sum().reset_index()"
   ]
  },
  {
   "cell_type": "code",
   "execution_count": 80,
   "metadata": {
    "collapsed": false
   },
   "outputs": [
    {
     "data": {
      "text/html": [
       "<div>\n",
       "<table border=\"1\" class=\"dataframe\">\n",
       "  <thead>\n",
       "    <tr style=\"text-align: right;\">\n",
       "      <th></th>\n",
       "      <th>UNIT</th>\n",
       "      <th>STATION</th>\n",
       "      <th>LINENAME</th>\n",
       "      <th>ENTRIES</th>\n",
       "      <th>EXITS</th>\n",
       "    </tr>\n",
       "  </thead>\n",
       "  <tbody>\n",
       "    <tr>\n",
       "      <th>0</th>\n",
       "      <td>R001</td>\n",
       "      <td>SOUTH FERRY</td>\n",
       "      <td>1R</td>\n",
       "      <td>1.497829e+11</td>\n",
       "      <td>1.308987e+11</td>\n",
       "    </tr>\n",
       "    <tr>\n",
       "      <th>1</th>\n",
       "      <td>R001</td>\n",
       "      <td>SOUTH FERRY</td>\n",
       "      <td>1RW</td>\n",
       "      <td>5.417442e+10</td>\n",
       "      <td>4.906501e+10</td>\n",
       "    </tr>\n",
       "    <tr>\n",
       "      <th>2</th>\n",
       "      <td>R001</td>\n",
       "      <td>WHITEHALL S-FRY</td>\n",
       "      <td>R1</td>\n",
       "      <td>2.766132e+10</td>\n",
       "      <td>2.399062e+10</td>\n",
       "    </tr>\n",
       "    <tr>\n",
       "      <th>3</th>\n",
       "      <td>R001</td>\n",
       "      <td>WHITEHALL S-FRY</td>\n",
       "      <td>R1W</td>\n",
       "      <td>2.571050e+10</td>\n",
       "      <td>2.291517e+10</td>\n",
       "    </tr>\n",
       "    <tr>\n",
       "      <th>4</th>\n",
       "      <td>R001</td>\n",
       "      <td>WHITEHALL ST</td>\n",
       "      <td>R1</td>\n",
       "      <td>2.936655e+10</td>\n",
       "      <td>2.382652e+10</td>\n",
       "    </tr>\n",
       "  </tbody>\n",
       "</table>\n",
       "</div>"
      ],
      "text/plain": [
       "   UNIT          STATION LINENAME       ENTRIES         EXITS\n",
       "0  R001      SOUTH FERRY       1R  1.497829e+11  1.308987e+11\n",
       "1  R001      SOUTH FERRY      1RW  5.417442e+10  4.906501e+10\n",
       "2  R001  WHITEHALL S-FRY       R1  2.766132e+10  2.399062e+10\n",
       "3  R001  WHITEHALL S-FRY      R1W  2.571050e+10  2.291517e+10\n",
       "4  R001     WHITEHALL ST       R1  2.936655e+10  2.382652e+10"
      ]
     },
     "execution_count": 80,
     "metadata": {},
     "output_type": "execute_result"
    }
   ],
   "source": [
    "model_data.head()"
   ]
  },
  {
   "cell_type": "code",
   "execution_count": 81,
   "metadata": {
    "collapsed": false
   },
   "outputs": [],
   "source": [
    "le = LabelEncoder()\n",
    "\n",
    "# find categorical columns to encode\n",
    "to_encode = model_data.select_dtypes(include = ['object','category']).columns\n",
    "\n",
    "# make sure columns are strings\n",
    "model_data[to_encode] = model_data[to_encode].astype(str)\n"
   ]
  },
  {
   "cell_type": "code",
   "execution_count": 82,
   "metadata": {
    "collapsed": false
   },
   "outputs": [
    {
     "name": "stdout",
     "output_type": "stream",
     "text": [
      "encoded:  UNIT\n",
      "encoded:  STATION\n",
      "encoded:  LINENAME\n"
     ]
    }
   ],
   "source": [
    "# change features from categorical to numerically encoded \n",
    "for col in to_encode:\n",
    "    print \"encoded: \", col\n",
    "    model_data[col] = le.fit_transform(model_data[col])"
   ]
  },
  {
   "cell_type": "code",
   "execution_count": 83,
   "metadata": {
    "collapsed": false
   },
   "outputs": [
    {
     "name": "stderr",
     "output_type": "stream",
     "text": [
      "/usr/local/lib/python2.7/site-packages/sklearn/preprocessing/data.py:167: UserWarning: Numerical issues were encountered when centering the data and might not be solved. Dataset may contain too large values. You may need to prescale your features.\n",
      "  warnings.warn(\"Numerical issues were encountered \"\n"
     ]
    }
   ],
   "source": [
    "# assign predictors and response\n",
    "X = model_data.drop(['EXITS'],axis=1)\n",
    "y = model_data.EXITS\n",
    "\n",
    "# split data into training and test set\n",
    "X_train, X_test, y_train, y_test = train_test_split(scale(X), y, test_size=0.10, random_state=1)"
   ]
  },
  {
   "cell_type": "code",
   "execution_count": 92,
   "metadata": {
    "collapsed": false
   },
   "outputs": [
    {
     "data": {
      "text/plain": [
       "LinearRegression(copy_X=True, fit_intercept=True, n_jobs=1, normalize=False)"
      ]
     },
     "execution_count": 92,
     "metadata": {},
     "output_type": "execute_result"
    }
   ],
   "source": [
    "lm = LinearRegression()\n",
    "# fit linear regression model\n",
    "lm.fit(X_train, y_train)"
   ]
  },
  {
   "cell_type": "code",
   "execution_count": 150,
   "metadata": {
    "collapsed": false
   },
   "outputs": [
    {
     "name": "stdout",
     "output_type": "stream",
     "text": [
      "Linear Regression Model Score on test set 0.903015614972\n"
     ]
    }
   ],
   "source": [
    "print \"Linear Regression Model Score on test set\",  lm.score(X_test, y_test)"
   ]
  },
  {
   "cell_type": "markdown",
   "metadata": {},
   "source": [
    "### Model on entire data\n",
    "Below I combined both datasets, the newer format and the older format and ran linear regression.\n",
    "The results were very close, which indicates that in this case more data points do not make a siginificant difference in our results. I think if we had more features it may make a difference and increase the score a bit."
   ]
  },
  {
   "cell_type": "code",
   "execution_count": 151,
   "metadata": {
    "collapsed": true
   },
   "outputs": [],
   "source": [
    "# remove outliers over 95% and less than 5%\n",
    "data = data[data.EXITS < data.EXITS.quantile(.95)]\n",
    "data = data[data.EXITS > data.EXITS.quantile(.05)]\n",
    "data = data[data.ENTRIES < data.ENTRIES.quantile(.95)]\n",
    "data = data[data.ENTRIES > data.ENTRIES.quantile(.05)]"
   ]
  },
  {
   "cell_type": "code",
   "execution_count": 153,
   "metadata": {
    "collapsed": false
   },
   "outputs": [
    {
     "data": {
      "text/html": [
       "<div>\n",
       "<table border=\"1\" class=\"dataframe\">\n",
       "  <thead>\n",
       "    <tr style=\"text-align: right;\">\n",
       "      <th></th>\n",
       "      <th>ControlArea</th>\n",
       "      <th>UNIT</th>\n",
       "      <th>SCP</th>\n",
       "      <th>STATION</th>\n",
       "      <th>LINENAME</th>\n",
       "      <th>DATE</th>\n",
       "      <th>TIME</th>\n",
       "      <th>DESC</th>\n",
       "      <th>ENTRIES</th>\n",
       "      <th>EXITS</th>\n",
       "      <th>turnstile_busyness</th>\n",
       "      <th>MONTH</th>\n",
       "      <th>YEAR</th>\n",
       "    </tr>\n",
       "  </thead>\n",
       "  <tbody>\n",
       "    <tr>\n",
       "      <th>0</th>\n",
       "      <td>A060</td>\n",
       "      <td>R001</td>\n",
       "      <td>00-00-00</td>\n",
       "      <td>WHITEHALL ST</td>\n",
       "      <td>R1</td>\n",
       "      <td>2014-10-11</td>\n",
       "      <td>01:00:00</td>\n",
       "      <td>REGULAR</td>\n",
       "      <td>805439.0</td>\n",
       "      <td>1141080.0</td>\n",
       "      <td>1946519.0</td>\n",
       "      <td>10</td>\n",
       "      <td>2014</td>\n",
       "    </tr>\n",
       "    <tr>\n",
       "      <th>1</th>\n",
       "      <td>A060</td>\n",
       "      <td>R001</td>\n",
       "      <td>00-00-00</td>\n",
       "      <td>WHITEHALL ST</td>\n",
       "      <td>R1</td>\n",
       "      <td>2014-10-11</td>\n",
       "      <td>05:00:00</td>\n",
       "      <td>REGULAR</td>\n",
       "      <td>805459.0</td>\n",
       "      <td>1141141.0</td>\n",
       "      <td>1946600.0</td>\n",
       "      <td>10</td>\n",
       "      <td>2014</td>\n",
       "    </tr>\n",
       "    <tr>\n",
       "      <th>2</th>\n",
       "      <td>A060</td>\n",
       "      <td>R001</td>\n",
       "      <td>00-00-00</td>\n",
       "      <td>WHITEHALL ST</td>\n",
       "      <td>R1</td>\n",
       "      <td>2014-10-11</td>\n",
       "      <td>09:00:00</td>\n",
       "      <td>REGULAR</td>\n",
       "      <td>805589.0</td>\n",
       "      <td>1141257.0</td>\n",
       "      <td>1946846.0</td>\n",
       "      <td>10</td>\n",
       "      <td>2014</td>\n",
       "    </tr>\n",
       "    <tr>\n",
       "      <th>3</th>\n",
       "      <td>A060</td>\n",
       "      <td>R001</td>\n",
       "      <td>00-00-00</td>\n",
       "      <td>WHITEHALL ST</td>\n",
       "      <td>R1</td>\n",
       "      <td>2014-10-11</td>\n",
       "      <td>13:00:00</td>\n",
       "      <td>REGULAR</td>\n",
       "      <td>805834.0</td>\n",
       "      <td>1141512.0</td>\n",
       "      <td>1947346.0</td>\n",
       "      <td>10</td>\n",
       "      <td>2014</td>\n",
       "    </tr>\n",
       "    <tr>\n",
       "      <th>4</th>\n",
       "      <td>A060</td>\n",
       "      <td>R001</td>\n",
       "      <td>00-00-00</td>\n",
       "      <td>WHITEHALL ST</td>\n",
       "      <td>R1</td>\n",
       "      <td>2014-10-11</td>\n",
       "      <td>17:00:00</td>\n",
       "      <td>REGULAR</td>\n",
       "      <td>806150.0</td>\n",
       "      <td>1141903.0</td>\n",
       "      <td>1948053.0</td>\n",
       "      <td>10</td>\n",
       "      <td>2014</td>\n",
       "    </tr>\n",
       "  </tbody>\n",
       "</table>\n",
       "</div>"
      ],
      "text/plain": [
       "  ControlArea  UNIT       SCP       STATION LINENAME       DATE      TIME  \\\n",
       "0        A060  R001  00-00-00  WHITEHALL ST       R1 2014-10-11  01:00:00   \n",
       "1        A060  R001  00-00-00  WHITEHALL ST       R1 2014-10-11  05:00:00   \n",
       "2        A060  R001  00-00-00  WHITEHALL ST       R1 2014-10-11  09:00:00   \n",
       "3        A060  R001  00-00-00  WHITEHALL ST       R1 2014-10-11  13:00:00   \n",
       "4        A060  R001  00-00-00  WHITEHALL ST       R1 2014-10-11  17:00:00   \n",
       "\n",
       "      DESC   ENTRIES      EXITS  turnstile_busyness  MONTH  YEAR  \n",
       "0  REGULAR  805439.0  1141080.0           1946519.0     10  2014  \n",
       "1  REGULAR  805459.0  1141141.0           1946600.0     10  2014  \n",
       "2  REGULAR  805589.0  1141257.0           1946846.0     10  2014  \n",
       "3  REGULAR  805834.0  1141512.0           1947346.0     10  2014  \n",
       "4  REGULAR  806150.0  1141903.0           1948053.0     10  2014  "
      ]
     },
     "execution_count": 153,
     "metadata": {},
     "output_type": "execute_result"
    }
   ],
   "source": [
    "data.head()"
   ]
  },
  {
   "cell_type": "code",
   "execution_count": 154,
   "metadata": {
    "collapsed": true
   },
   "outputs": [],
   "source": [
    "le = LabelEncoder()\n",
    "\n",
    "# find categorical columns to encode\n",
    "to_encode = data.select_dtypes(include = ['object','category']).columns\n",
    "\n",
    "# make sure columns are strings\n",
    "data[to_encode] = data[to_encode].astype(str)\n"
   ]
  },
  {
   "cell_type": "code",
   "execution_count": 157,
   "metadata": {
    "collapsed": false
   },
   "outputs": [
    {
     "data": {
      "text/plain": [
       "Index([u'ControlArea', u'UNIT', u'SCP', u'STATION', u'LINENAME', u'TIME',\n",
       "       u'DESC'],\n",
       "      dtype='object')"
      ]
     },
     "execution_count": 157,
     "metadata": {},
     "output_type": "execute_result"
    }
   ],
   "source": [
    "to_encode"
   ]
  },
  {
   "cell_type": "code",
   "execution_count": 158,
   "metadata": {
    "collapsed": false
   },
   "outputs": [
    {
     "name": "stdout",
     "output_type": "stream",
     "text": [
      "encoded:  ControlArea\n",
      "encoded:  UNIT\n",
      "encoded:  SCP\n",
      "encoded:  STATION\n",
      "encoded:  LINENAME\n",
      "encoded:  TIME\n",
      "encoded:  DESC\n"
     ]
    }
   ],
   "source": [
    "# change features from categorical to numerically encoded \n",
    "for col in to_encode:\n",
    "    print \"encoded: \", col\n",
    "    data[col] = le.fit_transform(data[col])"
   ]
  },
  {
   "cell_type": "code",
   "execution_count": 161,
   "metadata": {
    "collapsed": false
   },
   "outputs": [
    {
     "data": {
      "text/plain": [
       "ControlArea                    int64\n",
       "UNIT                           int64\n",
       "SCP                            int64\n",
       "STATION                        int64\n",
       "LINENAME                       int64\n",
       "DATE                  datetime64[ns]\n",
       "TIME                           int64\n",
       "DESC                           int64\n",
       "ENTRIES                      float64\n",
       "EXITS                        float64\n",
       "turnstile_busyness           float64\n",
       "MONTH                          int64\n",
       "YEAR                           int64\n",
       "dtype: object"
      ]
     },
     "execution_count": 161,
     "metadata": {},
     "output_type": "execute_result"
    }
   ],
   "source": [
    "data.dtypes"
   ]
  },
  {
   "cell_type": "code",
   "execution_count": 163,
   "metadata": {
    "collapsed": true
   },
   "outputs": [],
   "source": [
    "larger_data = data.groupby(['UNIT','STATION','LINENAME'])[['ENTRIES','EXITS']].sum().reset_index()"
   ]
  },
  {
   "cell_type": "code",
   "execution_count": 164,
   "metadata": {
    "collapsed": false
   },
   "outputs": [
    {
     "data": {
      "text/html": [
       "<div>\n",
       "<table border=\"1\" class=\"dataframe\">\n",
       "  <thead>\n",
       "    <tr style=\"text-align: right;\">\n",
       "      <th></th>\n",
       "      <th>UNIT</th>\n",
       "      <th>STATION</th>\n",
       "      <th>LINENAME</th>\n",
       "      <th>ENTRIES</th>\n",
       "      <th>EXITS</th>\n",
       "    </tr>\n",
       "  </thead>\n",
       "  <tbody>\n",
       "    <tr>\n",
       "      <th>0</th>\n",
       "      <td>0</td>\n",
       "      <td>518</td>\n",
       "      <td>8</td>\n",
       "      <td>1.497831e+11</td>\n",
       "      <td>1.308991e+11</td>\n",
       "    </tr>\n",
       "    <tr>\n",
       "      <th>1</th>\n",
       "      <td>0</td>\n",
       "      <td>518</td>\n",
       "      <td>9</td>\n",
       "      <td>5.417461e+10</td>\n",
       "      <td>4.906511e+10</td>\n",
       "    </tr>\n",
       "    <tr>\n",
       "      <th>2</th>\n",
       "      <td>0</td>\n",
       "      <td>557</td>\n",
       "      <td>122</td>\n",
       "      <td>2.766135e+10</td>\n",
       "      <td>2.399067e+10</td>\n",
       "    </tr>\n",
       "    <tr>\n",
       "      <th>3</th>\n",
       "      <td>0</td>\n",
       "      <td>557</td>\n",
       "      <td>123</td>\n",
       "      <td>2.571255e+10</td>\n",
       "      <td>2.291533e+10</td>\n",
       "    </tr>\n",
       "    <tr>\n",
       "      <th>4</th>\n",
       "      <td>0</td>\n",
       "      <td>558</td>\n",
       "      <td>122</td>\n",
       "      <td>2.936660e+10</td>\n",
       "      <td>2.382654e+10</td>\n",
       "    </tr>\n",
       "  </tbody>\n",
       "</table>\n",
       "</div>"
      ],
      "text/plain": [
       "   UNIT  STATION  LINENAME       ENTRIES         EXITS\n",
       "0     0      518         8  1.497831e+11  1.308991e+11\n",
       "1     0      518         9  5.417461e+10  4.906511e+10\n",
       "2     0      557       122  2.766135e+10  2.399067e+10\n",
       "3     0      557       123  2.571255e+10  2.291533e+10\n",
       "4     0      558       122  2.936660e+10  2.382654e+10"
      ]
     },
     "execution_count": 164,
     "metadata": {},
     "output_type": "execute_result"
    }
   ],
   "source": [
    "larger_data.head()"
   ]
  },
  {
   "cell_type": "code",
   "execution_count": 174,
   "metadata": {
    "collapsed": true
   },
   "outputs": [],
   "source": [
    "# assign predictors and response\n",
    "X = larger_data.drop(['EXITS'],axis=1)\n",
    "y = larger_data.EXITS\n",
    "\n",
    "# split data into training and test set\n",
    "X_train, X_test, y_train, y_test = train_test_split(scale(X), y, test_size=0.10, random_state=1)"
   ]
  },
  {
   "cell_type": "code",
   "execution_count": 175,
   "metadata": {
    "collapsed": false
   },
   "outputs": [
    {
     "data": {
      "text/plain": [
       "LinearRegression(copy_X=True, fit_intercept=True, n_jobs=1, normalize=False)"
      ]
     },
     "execution_count": 175,
     "metadata": {},
     "output_type": "execute_result"
    }
   ],
   "source": [
    "lm = LinearRegression()\n",
    "# fit linear regression model\n",
    "lm.fit(X_train, y_train)"
   ]
  },
  {
   "cell_type": "code",
   "execution_count": 176,
   "metadata": {
    "collapsed": false
   },
   "outputs": [
    {
     "name": "stdout",
     "output_type": "stream",
     "text": [
      "Linear Regression Model Score on entire test data 0.906739780303\n"
     ]
    }
   ],
   "source": [
    "print \"Linear Regression Model Score on entire test data\",  lm.score(X_test, y_test)"
   ]
  }
 ],
 "metadata": {
  "kernelspec": {
   "display_name": "Python 2",
   "language": "python",
   "name": "python2"
  },
  "language_info": {
   "codemirror_mode": {
    "name": "ipython",
    "version": 2
   },
   "file_extension": ".py",
   "mimetype": "text/x-python",
   "name": "python",
   "nbconvert_exporter": "python",
   "pygments_lexer": "ipython2",
   "version": "2.7.13"
  }
 },
 "nbformat": 4,
 "nbformat_minor": 2
}
